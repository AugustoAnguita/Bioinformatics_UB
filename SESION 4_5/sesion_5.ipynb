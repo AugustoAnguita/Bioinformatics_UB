{
  "nbformat": 4,
  "nbformat_minor": 0,
  "metadata": {
    "colab": {
      "provenance": [],
      "gpuType": "T4",
      "include_colab_link": true
    },
    "kernelspec": {
      "name": "ir",
      "display_name": "R"
    },
    "language_info": {
      "name": "R"
    },
    "accelerator": "GPU"
  },
  "cells": [
    {
      "cell_type": "markdown",
      "metadata": {
        "id": "view-in-github",
        "colab_type": "text"
      },
      "source": [
        "<a href=\"https://colab.research.google.com/github/AugustoAnguita/Bioinformatics_UB/blob/main/SESION%204_5/sesion_5.ipynb\" target=\"_parent\"><img src=\"https://colab.research.google.com/assets/colab-badge.svg\" alt=\"Open In Colab\"/></a>"
      ]
    },
    {
      "cell_type": "markdown",
      "source": [
        "# **ESTRATEGIAS DE VALIDACIÓN: APRENDIZAJE DE CÁNCER DE MAMA MEDIANTE IMÁGENES**  \n",
        "\n",
        "\n"
      ],
      "metadata": {
        "id": "Dqcog9uUbeZk"
      }
    },
    {
      "cell_type": "markdown",
      "source": [
        "En esta práctica aprenderemos a realizar diferentes **técnicas de particionado de datos**:\n",
        "\n",
        "- *Hold-out*\n",
        "\n",
        "- *Validación cruzada k-fold*\n",
        "\n",
        "- *Repeated k-fold*\n",
        "\n",
        "- *Validación cruzada estratificada*\n",
        "\n",
        "- *Leave-One-Out (LOO)*\n",
        "\n",
        "Usaremos el conjunto de datos *Breast Cancer* incluido en la librería mlbench, equivalente al dataset de Scikit-learn en Python."
      ],
      "metadata": {
        "id": "LGVaRZl6wyDd"
      }
    },
    {
      "cell_type": "markdown",
      "source": [
        "# **Recordatorio: Introducción al NoteBook**\n",
        "Dentro de este cuaderno (NoteBook), se te guiará paso a paso desde la carga de un conjunto de datos hasta la realización del análisis de su contenido.\n",
        "\n",
        "El cuaderno *Jupyter* (Python) es un enfoque que combina bloques de texto (como este) junto con bloques o celdas de código. La gran ventaja de este tipo de celda es su interactividad, ya que pueden ejecutarse para comprobar los resultados directamente en ellas. *Muy importante:* **el orden de las instrucciones es fundamental**, por lo que cada celda de este cuaderno debe ejecutarse secuencialmente. Si se omite alguna, el programa puede dar un error, así que, en caso de duda, debes comenzar desde el principio.\n",
        "\n",
        "Antes que nada:\n",
        "\n",
        "Es **muy muy importante** que al inicio selecciones **\"*Open in draft mode*\" (draft mode)** (modo borrador), en la parte superior izquierda. De lo contrario, no te permitirá ejecutar ningún bloque de código, por motivos de seguridad. Cuando se ejecute el primero de los bloques aparecerá el siguiente mensaje: \"*Warning: This notebook was not created by Google.*\". No te preocupes, debes confiar en el contenido del cuaderno (NoteBook) y hacer clic en \"Run anyway\".\n",
        "\n",
        "¡Vamos allá!\n",
        "\n",
        "Haz clic en el botón \"play\" situado a la izquierda de cada celda de código. Las líneas de código que comienzan con una almohadilla (#) son comentarios y no afectan a la ejecución del programa.\n",
        "\n",
        "También puedes hacer clic en cada celda y presionar \"*ctrl+enter*\" (*cmd+enter* on Mac).\n",
        "\n",
        "Cada vez que ejecutes un bloque, verás la salida justo debajo. La información suele estar siempre relacionada con la última instrucción, junto con todos los comandos `print()` que aparezcan en el código.\n",
        "\n",
        "\n"
      ],
      "metadata": {
        "id": "EKKM1PhGbg9e"
      }
    },
    {
      "cell_type": "markdown",
      "source": [
        "## **INDICE**\n",
        "1. [Instalación del Entorno R y Librerías](#install-libraries)    \n",
        "2. [Carga y preparación de datos](#load-data)\n",
        "3. [Validación Hold-Out](#3)   \n",
        "4. [Validación Cruzada k-Fold](#4)   \n",
        "5. [Repeated k-Fold (k-fold repetido)](#5)\n",
        "6. [Validación Cruzada Estratificada](#6)   \n",
        "7. [Validación Leave-One-Out (LOO)](#7)   \n",
        "8. [Resumen y comparación de técnicas](#8)      \n"
      ],
      "metadata": {
        "id": "SLQByQt6boyV"
      }
    },
    {
      "cell_type": "markdown",
      "source": [
        "## **1. Instalación del Entorno R y Librerías** <a name=\"install-libraries\"></a>\n",
        "\n",
        "A continuación, instalamos/cargamos las librerías necesarias para esta sesión. En el contexto del análisis del exposoma, las librerías de R nos ofrecen una forma mucho más conveniente de procesar, manipular y analizar los datos. Algunas de estas librerías: `tidyverse`, `skimr`, `readr`.\n",
        "\n",
        "La instalación de R en nuestro entorno de Google Colab se llevará a cabo en el siguiente bloque de código. Debe recordarse que todas las instalaciones de librerías que realicemos en el entorno de Google Colab permanecerán activas solo durante unas horas, tras lo cual las librerías instaladas se eliminan. Por lo tanto, será necesario volver a ejecutar el código de instalación de librerías de esta sección siempre que se necesite volver a correr el cuaderno después de este tiempo.\n",
        "\n",
        "Nota: Recomendamos instalar las librerías 5 minutos antes del inicio de la sesión❗❗❗\n"
      ],
      "metadata": {
        "id": "FzcR99tI-Yhe"
      }
    },
    {
      "cell_type": "code",
      "source": [
        "# first we check the R version we have\n",
        "R.Version()"
      ],
      "metadata": {
        "id": "72VUo583KVQE",
        "colab": {
          "base_uri": "https://localhost:8080/",
          "height": 531
        },
        "outputId": "ae1a5eaa-9a0a-4b8e-8b64-4f391967503d"
      },
      "execution_count": 1,
      "outputs": [
        {
          "output_type": "display_data",
          "data": {
            "text/html": [
              "<dl>\n",
              "\t<dt>$platform</dt>\n",
              "\t\t<dd>'x86_64-pc-linux-gnu'</dd>\n",
              "\t<dt>$arch</dt>\n",
              "\t\t<dd>'x86_64'</dd>\n",
              "\t<dt>$os</dt>\n",
              "\t\t<dd>'linux-gnu'</dd>\n",
              "\t<dt>$system</dt>\n",
              "\t\t<dd>'x86_64, linux-gnu'</dd>\n",
              "\t<dt>$status</dt>\n",
              "\t\t<dd>''</dd>\n",
              "\t<dt>$major</dt>\n",
              "\t\t<dd>'4'</dd>\n",
              "\t<dt>$minor</dt>\n",
              "\t\t<dd>'5.1'</dd>\n",
              "\t<dt>$year</dt>\n",
              "\t\t<dd>'2025'</dd>\n",
              "\t<dt>$month</dt>\n",
              "\t\t<dd>'06'</dd>\n",
              "\t<dt>$day</dt>\n",
              "\t\t<dd>'13'</dd>\n",
              "\t<dt>$`svn rev`</dt>\n",
              "\t\t<dd>'88306'</dd>\n",
              "\t<dt>$language</dt>\n",
              "\t\t<dd>'R'</dd>\n",
              "\t<dt>$version.string</dt>\n",
              "\t\t<dd>'R version 4.5.1 (2025-06-13)'</dd>\n",
              "\t<dt>$nickname</dt>\n",
              "\t\t<dd>'Great Square Root'</dd>\n",
              "</dl>\n"
            ],
            "text/markdown": "$platform\n:   'x86_64-pc-linux-gnu'\n$arch\n:   'x86_64'\n$os\n:   'linux-gnu'\n$system\n:   'x86_64, linux-gnu'\n$status\n:   ''\n$major\n:   '4'\n$minor\n:   '5.1'\n$year\n:   '2025'\n$month\n:   '06'\n$day\n:   '13'\n$`svn rev`\n:   '88306'\n$language\n:   'R'\n$version.string\n:   'R version 4.5.1 (2025-06-13)'\n$nickname\n:   'Great Square Root'\n\n\n",
            "text/latex": "\\begin{description}\n\\item[\\$platform] 'x86\\_64-pc-linux-gnu'\n\\item[\\$arch] 'x86\\_64'\n\\item[\\$os] 'linux-gnu'\n\\item[\\$system] 'x86\\_64, linux-gnu'\n\\item[\\$status] ''\n\\item[\\$major] '4'\n\\item[\\$minor] '5.1'\n\\item[\\$year] '2025'\n\\item[\\$month] '06'\n\\item[\\$day] '13'\n\\item[\\$`svn rev`] '88306'\n\\item[\\$language] 'R'\n\\item[\\$version.string] 'R version 4.5.1 (2025-06-13)'\n\\item[\\$nickname] 'Great Square Root'\n\\end{description}\n",
            "text/plain": [
              "$platform\n",
              "[1] \"x86_64-pc-linux-gnu\"\n",
              "\n",
              "$arch\n",
              "[1] \"x86_64\"\n",
              "\n",
              "$os\n",
              "[1] \"linux-gnu\"\n",
              "\n",
              "$system\n",
              "[1] \"x86_64, linux-gnu\"\n",
              "\n",
              "$status\n",
              "[1] \"\"\n",
              "\n",
              "$major\n",
              "[1] \"4\"\n",
              "\n",
              "$minor\n",
              "[1] \"5.1\"\n",
              "\n",
              "$year\n",
              "[1] \"2025\"\n",
              "\n",
              "$month\n",
              "[1] \"06\"\n",
              "\n",
              "$day\n",
              "[1] \"13\"\n",
              "\n",
              "$`svn rev`\n",
              "[1] \"88306\"\n",
              "\n",
              "$language\n",
              "[1] \"R\"\n",
              "\n",
              "$version.string\n",
              "[1] \"R version 4.5.1 (2025-06-13)\"\n",
              "\n",
              "$nickname\n",
              "[1] \"Great Square Root\"\n"
            ]
          },
          "metadata": {}
        }
      ]
    },
    {
      "cell_type": "markdown",
      "source": [
        "* **Instalar/cargar librerías para la sesión**\n",
        "\n",
        "Vamos a instalar/cargar las librerías necesarias para la sesión práctica.\n",
        "Para ello, utilizaremos el paquete `pacman`, que es una herramienta de gestión que combina las funcionalidades de las funciones `install.packages` + `library`."
      ],
      "metadata": {
        "id": "QMFsFs-2KPCA"
      }
    },
    {
      "cell_type": "code",
      "source": [
        "# Estimated execution time: 3 seconds approx.\n",
        "\n",
        "install.packages('pacman') # allows us to install/upload packages simultaneously"
      ],
      "metadata": {
        "id": "Qhzv4rIHLHzm",
        "colab": {
          "base_uri": "https://localhost:8080/"
        },
        "outputId": "8ac5d39a-2d2d-4c4c-d779-29655907f1eb"
      },
      "execution_count": 2,
      "outputs": [
        {
          "output_type": "stream",
          "name": "stderr",
          "text": [
            "Installing package into ‘/usr/local/lib/R/site-library’\n",
            "(as ‘lib’ is unspecified)\n",
            "\n"
          ]
        }
      ]
    },
    {
      "cell_type": "markdown",
      "source": [
        "Instalaremos `BiocManager` y `rexposome` (estos dos paquetes son esenciales para el análisis del exposoma) utilizando el siguiente código, ya que a veces existen problemas de compatibilidad con la versión de R.\n",
        "\n",
        "El proceso puede tardar **unos minutos**, por lo que se recomienda realizar la instalación durante la sesión teórica.\n"
      ],
      "metadata": {
        "id": "bGVMG60NMEiF"
      }
    },
    {
      "cell_type": "code",
      "source": [
        "# Estimated execution time: 1 minute approx.\n",
        "\n",
        "if (!requireNamespace(\"BiocManager\", quietly=TRUE))\n",
        "    install.packages(\"BiocManager\")\n",
        "\n",
        "packages = c(\"tidyverse\",\"rsample\",\"mlbench\",\"ggplot2\"\n",
        ")\n",
        "for( pkg in packages ) {\n",
        "  if( !pkg %in% rownames( installed.packages() ) ) {\n",
        "    message( \"Installing \", pkg )\n",
        "    BiocManager::install( pkg )\n",
        "  }\n",
        "}"
      ],
      "metadata": {
        "id": "G1VMrFw4E9kD"
      },
      "execution_count": 12,
      "outputs": []
    },
    {
      "cell_type": "code",
      "source": [
        "# Estimated execution time: 1 minute approx.\n",
        "# Add all the libraries we need to use (if the package is already installed, it will automatically load the package if it is in the pacman::p_load() function).\n",
        "pacman::p_load(tidyverse,rsample,mlbench,ggplot2)"
      ],
      "metadata": {
        "id": "0bd6Fmjy7LNA"
      },
      "execution_count": 13,
      "outputs": []
    },
    {
      "cell_type": "markdown",
      "source": [
        "## **2. Carga y preparación de datos** <a name=\"load-data\"></a>\n",
        "\n",
        "A continuación encontramos las **líneas de código** necesarias para **cargar** el dataset de cancer de mama."
      ],
      "metadata": {
        "id": "DsoalTRZdIdV"
      }
    },
    {
      "cell_type": "markdown",
      "source": [
        "**1.-** Carga de datos (los datos estan disponibles dentro del paquete `mlbench`)."
      ],
      "metadata": {
        "id": "VSUqs-A60QcI"
      }
    },
    {
      "cell_type": "code",
      "source": [
        "data(BreastCancer, package = \"mlbench\")\n",
        "df <- as_tibble(BreastCancer)"
      ],
      "metadata": {
        "id": "QdsjN_rcoB6i"
      },
      "execution_count": 22,
      "outputs": []
    },
    {
      "cell_type": "code",
      "source": [
        "## Limpieza mínima: quitar ID, convertir predictores a numérico, eliminar NA\n",
        "df <- df %>%\n",
        "  mutate(idx = row_number()) %>%     # índice para rastrear particiones (equivalente a .index en Python)\n",
        "  select(-Id) %>%\n",
        "  mutate(across(-c(Class, idx), ~ as.numeric(.))) %>%\n",
        "  drop_na()\n"
      ],
      "metadata": {
        "id": "TD37CVA45ObF",
        "colab": {
          "base_uri": "https://localhost:8080/"
        },
        "outputId": "6f355e8f-8da3-4257-ba00-1e92d4a603c6"
      },
      "execution_count": 24,
      "outputs": [
        {
          "output_type": "stream",
          "name": "stderr",
          "text": [
            "Warning message:\n",
            "“\u001b[1m\u001b[22mThere was 1 warning in `mutate()`.\n",
            "\u001b[1m\u001b[22m\u001b[36mℹ\u001b[39m In argument: `across(everything(), ~as.numeric(as.character(.)))`.\n",
            "Caused by warning:\n",
            "\u001b[33m!\u001b[39m NAs introduced by coercion”\n"
          ]
        }
      ]
    },
    {
      "cell_type": "markdown",
      "source": [
        "**2.-** Podemos consultar su estructura y dimensiones"
      ],
      "metadata": {
        "id": "F---b4Tg0nMC"
      }
    },
    {
      "cell_type": "code",
      "source": [
        "dplyr::glimpse(df) # Tenemos 500 individuos y 14 variables\n",
        "\n",
        "head(df)"
      ],
      "metadata": {
        "id": "V56avl4L0oIm",
        "colab": {
          "base_uri": "https://localhost:8080/",
          "height": 523
        },
        "outputId": "4bcac70e-0383-4890-a022-d5b543f9cb41"
      },
      "execution_count": 8,
      "outputs": [
        {
          "output_type": "stream",
          "name": "stdout",
          "text": [
            "Rows: 683\n",
            "Columns: 11\n",
            "$ Cl.thickness    \u001b[3m\u001b[90m<dbl>\u001b[39m\u001b[23m 5\u001b[90m, \u001b[39m5\u001b[90m, \u001b[39m3\u001b[90m, \u001b[39m6\u001b[90m, \u001b[39m4\u001b[90m, \u001b[39m8\u001b[90m, \u001b[39m1\u001b[90m, \u001b[39m2\u001b[90m, \u001b[39m2\u001b[90m, \u001b[39m4\u001b[90m, \u001b[39m1\u001b[90m, \u001b[39m2\u001b[90m, \u001b[39m5\u001b[90m, \u001b[39m1\u001b[90m, \u001b[39m8\u001b[90m, \u001b[39m7\u001b[90m, \u001b[39m4\u001b[90m, \u001b[39m4\u001b[90m, \u001b[39m…\n",
            "$ Cell.size       \u001b[3m\u001b[90m<dbl>\u001b[39m\u001b[23m 1\u001b[90m, \u001b[39m4\u001b[90m, \u001b[39m1\u001b[90m, \u001b[39m8\u001b[90m, \u001b[39m1\u001b[90m, \u001b[39m10\u001b[90m, \u001b[39m1\u001b[90m, \u001b[39m1\u001b[90m, \u001b[39m1\u001b[90m, \u001b[39m2\u001b[90m, \u001b[39m1\u001b[90m, \u001b[39m1\u001b[90m, \u001b[39m3\u001b[90m, \u001b[39m1\u001b[90m, \u001b[39m7\u001b[90m, \u001b[39m4\u001b[90m, \u001b[39m1\u001b[90m, \u001b[39m1\u001b[90m,\u001b[39m…\n",
            "$ Cell.shape      \u001b[3m\u001b[90m<dbl>\u001b[39m\u001b[23m 1\u001b[90m, \u001b[39m4\u001b[90m, \u001b[39m1\u001b[90m, \u001b[39m8\u001b[90m, \u001b[39m1\u001b[90m, \u001b[39m10\u001b[90m, \u001b[39m1\u001b[90m, \u001b[39m2\u001b[90m, \u001b[39m1\u001b[90m, \u001b[39m1\u001b[90m, \u001b[39m1\u001b[90m, \u001b[39m1\u001b[90m, \u001b[39m3\u001b[90m, \u001b[39m1\u001b[90m, \u001b[39m5\u001b[90m, \u001b[39m6\u001b[90m, \u001b[39m1\u001b[90m, \u001b[39m1\u001b[90m,\u001b[39m…\n",
            "$ Marg.adhesion   \u001b[3m\u001b[90m<dbl>\u001b[39m\u001b[23m 1\u001b[90m, \u001b[39m5\u001b[90m, \u001b[39m1\u001b[90m, \u001b[39m1\u001b[90m, \u001b[39m3\u001b[90m, \u001b[39m8\u001b[90m, \u001b[39m1\u001b[90m, \u001b[39m1\u001b[90m, \u001b[39m1\u001b[90m, \u001b[39m1\u001b[90m, \u001b[39m1\u001b[90m, \u001b[39m1\u001b[90m, \u001b[39m3\u001b[90m, \u001b[39m1\u001b[90m, \u001b[39m10\u001b[90m, \u001b[39m4\u001b[90m, \u001b[39m1\u001b[90m, \u001b[39m1\u001b[90m,\u001b[39m…\n",
            "$ Epith.c.size    \u001b[3m\u001b[90m<dbl>\u001b[39m\u001b[23m 2\u001b[90m, \u001b[39m7\u001b[90m, \u001b[39m2\u001b[90m, \u001b[39m3\u001b[90m, \u001b[39m2\u001b[90m, \u001b[39m7\u001b[90m, \u001b[39m2\u001b[90m, \u001b[39m2\u001b[90m, \u001b[39m2\u001b[90m, \u001b[39m2\u001b[90m, \u001b[39m1\u001b[90m, \u001b[39m2\u001b[90m, \u001b[39m2\u001b[90m, \u001b[39m2\u001b[90m, \u001b[39m7\u001b[90m, \u001b[39m6\u001b[90m, \u001b[39m2\u001b[90m, \u001b[39m2\u001b[90m, \u001b[39m…\n",
            "$ Bare.nuclei     \u001b[3m\u001b[90m<dbl>\u001b[39m\u001b[23m 1\u001b[90m, \u001b[39m10\u001b[90m, \u001b[39m2\u001b[90m, \u001b[39m4\u001b[90m, \u001b[39m1\u001b[90m, \u001b[39m10\u001b[90m, \u001b[39m10\u001b[90m, \u001b[39m1\u001b[90m, \u001b[39m1\u001b[90m, \u001b[39m1\u001b[90m, \u001b[39m1\u001b[90m, \u001b[39m1\u001b[90m, \u001b[39m3\u001b[90m, \u001b[39m3\u001b[90m, \u001b[39m9\u001b[90m, \u001b[39m1\u001b[90m, \u001b[39m1\u001b[90m, \u001b[39m…\n",
            "$ Bl.cromatin     \u001b[3m\u001b[90m<dbl>\u001b[39m\u001b[23m 3\u001b[90m, \u001b[39m3\u001b[90m, \u001b[39m3\u001b[90m, \u001b[39m3\u001b[90m, \u001b[39m3\u001b[90m, \u001b[39m9\u001b[90m, \u001b[39m3\u001b[90m, \u001b[39m3\u001b[90m, \u001b[39m1\u001b[90m, \u001b[39m2\u001b[90m, \u001b[39m3\u001b[90m, \u001b[39m2\u001b[90m, \u001b[39m4\u001b[90m, \u001b[39m3\u001b[90m, \u001b[39m5\u001b[90m, \u001b[39m4\u001b[90m, \u001b[39m2\u001b[90m, \u001b[39m3\u001b[90m, \u001b[39m…\n",
            "$ Normal.nucleoli \u001b[3m\u001b[90m<dbl>\u001b[39m\u001b[23m 1\u001b[90m, \u001b[39m2\u001b[90m, \u001b[39m1\u001b[90m, \u001b[39m7\u001b[90m, \u001b[39m1\u001b[90m, \u001b[39m7\u001b[90m, \u001b[39m1\u001b[90m, \u001b[39m1\u001b[90m, \u001b[39m1\u001b[90m, \u001b[39m1\u001b[90m, \u001b[39m1\u001b[90m, \u001b[39m1\u001b[90m, \u001b[39m4\u001b[90m, \u001b[39m1\u001b[90m, \u001b[39m5\u001b[90m, \u001b[39m3\u001b[90m, \u001b[39m1\u001b[90m, \u001b[39m1\u001b[90m, \u001b[39m…\n",
            "$ Mitoses         \u001b[3m\u001b[90m<dbl>\u001b[39m\u001b[23m 1\u001b[90m, \u001b[39m1\u001b[90m, \u001b[39m1\u001b[90m, \u001b[39m1\u001b[90m, \u001b[39m1\u001b[90m, \u001b[39m1\u001b[90m, \u001b[39m1\u001b[90m, \u001b[39m1\u001b[90m, \u001b[39m5\u001b[90m, \u001b[39m1\u001b[90m, \u001b[39m1\u001b[90m, \u001b[39m1\u001b[90m, \u001b[39m1\u001b[90m, \u001b[39m1\u001b[90m, \u001b[39m4\u001b[90m, \u001b[39m1\u001b[90m, \u001b[39m1\u001b[90m, \u001b[39m1\u001b[90m, \u001b[39m…\n",
            "$ Class           \u001b[3m\u001b[90m<fct>\u001b[39m\u001b[23m benign\u001b[90m, \u001b[39mbenign\u001b[90m, \u001b[39mbenign\u001b[90m, \u001b[39mbenign\u001b[90m, \u001b[39mbenign\u001b[90m, \u001b[39mmalignant\u001b[90m, \u001b[39mben…\n",
            "$ idx             \u001b[3m\u001b[90m<int>\u001b[39m\u001b[23m 1\u001b[90m, \u001b[39m2\u001b[90m, \u001b[39m3\u001b[90m, \u001b[39m4\u001b[90m, \u001b[39m5\u001b[90m, \u001b[39m6\u001b[90m, \u001b[39m7\u001b[90m, \u001b[39m8\u001b[90m, \u001b[39m9\u001b[90m, \u001b[39m10\u001b[90m, \u001b[39m11\u001b[90m, \u001b[39m12\u001b[90m, \u001b[39m13\u001b[90m, \u001b[39m14\u001b[90m, \u001b[39m15\u001b[90m, \u001b[39m16\u001b[90m,\u001b[39m…\n"
          ]
        },
        {
          "output_type": "display_data",
          "data": {
            "text/html": [
              "<table class=\"dataframe\">\n",
              "<caption>A tibble: 6 × 11</caption>\n",
              "<thead>\n",
              "\t<tr><th scope=col>Cl.thickness</th><th scope=col>Cell.size</th><th scope=col>Cell.shape</th><th scope=col>Marg.adhesion</th><th scope=col>Epith.c.size</th><th scope=col>Bare.nuclei</th><th scope=col>Bl.cromatin</th><th scope=col>Normal.nucleoli</th><th scope=col>Mitoses</th><th scope=col>Class</th><th scope=col>idx</th></tr>\n",
              "\t<tr><th scope=col>&lt;dbl&gt;</th><th scope=col>&lt;dbl&gt;</th><th scope=col>&lt;dbl&gt;</th><th scope=col>&lt;dbl&gt;</th><th scope=col>&lt;dbl&gt;</th><th scope=col>&lt;dbl&gt;</th><th scope=col>&lt;dbl&gt;</th><th scope=col>&lt;dbl&gt;</th><th scope=col>&lt;dbl&gt;</th><th scope=col>&lt;fct&gt;</th><th scope=col>&lt;int&gt;</th></tr>\n",
              "</thead>\n",
              "<tbody>\n",
              "\t<tr><td>5</td><td> 1</td><td> 1</td><td>1</td><td>2</td><td> 1</td><td>3</td><td>1</td><td>1</td><td>benign   </td><td>1</td></tr>\n",
              "\t<tr><td>5</td><td> 4</td><td> 4</td><td>5</td><td>7</td><td>10</td><td>3</td><td>2</td><td>1</td><td>benign   </td><td>2</td></tr>\n",
              "\t<tr><td>3</td><td> 1</td><td> 1</td><td>1</td><td>2</td><td> 2</td><td>3</td><td>1</td><td>1</td><td>benign   </td><td>3</td></tr>\n",
              "\t<tr><td>6</td><td> 8</td><td> 8</td><td>1</td><td>3</td><td> 4</td><td>3</td><td>7</td><td>1</td><td>benign   </td><td>4</td></tr>\n",
              "\t<tr><td>4</td><td> 1</td><td> 1</td><td>3</td><td>2</td><td> 1</td><td>3</td><td>1</td><td>1</td><td>benign   </td><td>5</td></tr>\n",
              "\t<tr><td>8</td><td>10</td><td>10</td><td>8</td><td>7</td><td>10</td><td>9</td><td>7</td><td>1</td><td>malignant</td><td>6</td></tr>\n",
              "</tbody>\n",
              "</table>\n"
            ],
            "text/markdown": "\nA tibble: 6 × 11\n\n| Cl.thickness &lt;dbl&gt; | Cell.size &lt;dbl&gt; | Cell.shape &lt;dbl&gt; | Marg.adhesion &lt;dbl&gt; | Epith.c.size &lt;dbl&gt; | Bare.nuclei &lt;dbl&gt; | Bl.cromatin &lt;dbl&gt; | Normal.nucleoli &lt;dbl&gt; | Mitoses &lt;dbl&gt; | Class &lt;fct&gt; | idx &lt;int&gt; |\n|---|---|---|---|---|---|---|---|---|---|---|\n| 5 |  1 |  1 | 1 | 2 |  1 | 3 | 1 | 1 | benign    | 1 |\n| 5 |  4 |  4 | 5 | 7 | 10 | 3 | 2 | 1 | benign    | 2 |\n| 3 |  1 |  1 | 1 | 2 |  2 | 3 | 1 | 1 | benign    | 3 |\n| 6 |  8 |  8 | 1 | 3 |  4 | 3 | 7 | 1 | benign    | 4 |\n| 4 |  1 |  1 | 3 | 2 |  1 | 3 | 1 | 1 | benign    | 5 |\n| 8 | 10 | 10 | 8 | 7 | 10 | 9 | 7 | 1 | malignant | 6 |\n\n",
            "text/latex": "A tibble: 6 × 11\n\\begin{tabular}{lllllllllll}\n Cl.thickness & Cell.size & Cell.shape & Marg.adhesion & Epith.c.size & Bare.nuclei & Bl.cromatin & Normal.nucleoli & Mitoses & Class & idx\\\\\n <dbl> & <dbl> & <dbl> & <dbl> & <dbl> & <dbl> & <dbl> & <dbl> & <dbl> & <fct> & <int>\\\\\n\\hline\n\t 5 &  1 &  1 & 1 & 2 &  1 & 3 & 1 & 1 & benign    & 1\\\\\n\t 5 &  4 &  4 & 5 & 7 & 10 & 3 & 2 & 1 & benign    & 2\\\\\n\t 3 &  1 &  1 & 1 & 2 &  2 & 3 & 1 & 1 & benign    & 3\\\\\n\t 6 &  8 &  8 & 1 & 3 &  4 & 3 & 7 & 1 & benign    & 4\\\\\n\t 4 &  1 &  1 & 3 & 2 &  1 & 3 & 1 & 1 & benign    & 5\\\\\n\t 8 & 10 & 10 & 8 & 7 & 10 & 9 & 7 & 1 & malignant & 6\\\\\n\\end{tabular}\n",
            "text/plain": [
              "  Cl.thickness Cell.size Cell.shape Marg.adhesion Epith.c.size Bare.nuclei\n",
              "1 5             1         1         1             2             1         \n",
              "2 5             4         4         5             7            10         \n",
              "3 3             1         1         1             2             2         \n",
              "4 6             8         8         1             3             4         \n",
              "5 4             1         1         3             2             1         \n",
              "6 8            10        10         8             7            10         \n",
              "  Bl.cromatin Normal.nucleoli Mitoses Class     idx\n",
              "1 3           1               1       benign    1  \n",
              "2 3           2               1       benign    2  \n",
              "3 3           1               1       benign    3  \n",
              "4 3           7               1       benign    4  \n",
              "5 3           1               1       benign    5  \n",
              "6 9           7               1       malignant 6  "
            ]
          },
          "metadata": {}
        }
      ]
    },
    {
      "cell_type": "markdown",
      "source": [
        "**3.-** Como hemos explicado en clase, es importante conocer si existe un desbalanceo importante entre clases a la hora de elegir la estrategia de validación (por ejemplo, si tuvieramos muy pocos sujetos en la clase \"malignant\" podríamos elegir una validación cruzada estratificada)"
      ],
      "metadata": {
        "id": "iGtN2WHfppoB"
      }
    },
    {
      "cell_type": "code",
      "source": [
        "# Contar y graficar\n",
        "ggplot(df, aes(x = Class)) +\n",
        "  geom_bar(fill = c(\"skyblue\",\"red\"), color = \"black\") +\n",
        "  labs(title = \"Número de instancias por clase\",\n",
        "       x = \"Clase\",\n",
        "       y = \"Número de instancias\") +\n",
        "  theme_minimal()"
      ],
      "metadata": {
        "colab": {
          "base_uri": "https://localhost:8080/",
          "height": 437
        },
        "id": "4VmOYMYtpqVL",
        "outputId": "0a10b176-b10d-4209-f1b3-6064dd4c8027"
      },
      "execution_count": 16,
      "outputs": [
        {
          "output_type": "display_data",
          "data": {
            "text/plain": [
              "plot without title"
            ],
            "image/png": "[encoded data removed]"
          },
          "metadata": {
            "image/png": {
              "width": 420,
              "height": 420
            }
          }
        }
      ]
    },
    {
      "cell_type": "code",
      "source": [
        "## Separar X (entrada) e y (salida)\n",
        "X <- df %>% select(-Class)\n",
        "y <- df %>% select(Class)\n",
        "class(X)\n",
        "class(y)"
      ],
      "metadata": {
        "id": "nbL3Z5JGvBhW",
        "outputId": "1df9bce8-c628-41aa-d5c9-361c22e8ae2e",
        "colab": {
          "base_uri": "https://localhost:8080/",
          "height": 52
        }
      },
      "execution_count": 19,
      "outputs": [
        {
          "output_type": "display_data",
          "data": {
            "text/html": [
              "<style>\n",
              ".list-inline {list-style: none; margin:0; padding: 0}\n",
              ".list-inline>li {display: inline-block}\n",
              ".list-inline>li:not(:last-child)::after {content: \"\\00b7\"; padding: 0 .5ex}\n",
              "</style>\n",
              "<ol class=list-inline><li>'tbl_df'</li><li>'tbl'</li><li>'data.frame'</li></ol>\n"
            ],
            "text/markdown": "1. 'tbl_df'\n2. 'tbl'\n3. 'data.frame'\n\n\n",
            "text/latex": "\\begin{enumerate*}\n\\item 'tbl\\_df'\n\\item 'tbl'\n\\item 'data.frame'\n\\end{enumerate*}\n",
            "text/plain": [
              "[1] \"tbl_df\"     \"tbl\"        \"data.frame\""
            ]
          },
          "metadata": {}
        },
        {
          "output_type": "display_data",
          "data": {
            "text/html": [
              "<style>\n",
              ".list-inline {list-style: none; margin:0; padding: 0}\n",
              ".list-inline>li {display: inline-block}\n",
              ".list-inline>li:not(:last-child)::after {content: \"\\00b7\"; padding: 0 .5ex}\n",
              "</style>\n",
              "<ol class=list-inline><li>'tbl_df'</li><li>'tbl'</li><li>'data.frame'</li></ol>\n"
            ],
            "text/markdown": "1. 'tbl_df'\n2. 'tbl'\n3. 'data.frame'\n\n\n",
            "text/latex": "\\begin{enumerate*}\n\\item 'tbl\\_df'\n\\item 'tbl'\n\\item 'data.frame'\n\\end{enumerate*}\n",
            "text/plain": [
              "[1] \"tbl_df\"     \"tbl\"        \"data.frame\""
            ]
          },
          "metadata": {}
        }
      ]
    },
    {
      "cell_type": "markdown",
      "source": [
        "A partir del código anterior, se puede extraer la siguiente información:\n",
        "- `X` e `y` son dos estructuras de datos tipo `dataframe` (marco de datos). Un `dataframe` se entiende como un vector n-dimensional`.  \n",
        "\n",
        "- `X` contiene la matriz de datos de entrada e `y` es un vector unidimensional con la etiqueta de cada muestra en `X`. Por simplicidad, en este caso se ha optado por resolver un problema de clasificación (variable de salida de tipo categórica).\n",
        "\n",
        "- En el aprendizaje de tipo supervisado, `X` e `y` se usarán para construir el modelo de Machine Learning y probarlo.\n"
      ],
      "metadata": {
        "id": "kM4ZSZOKu0rj"
      }
    },
    {
      "cell_type": "markdown",
      "source": [
        "### **3. Validación Hold-Out** <a name=\"3\"></a>\n"
      ],
      "metadata": {
        "id": "PvKPfHh8k7UR"
      }
    },
    {
      "cell_type": "markdown",
      "source": [
        "\n",
        "En R, el método **hold-out** consiste en dividir el conjunto de datos original en dos subconjuntos disjuntos:  \n",
        "- Un conjunto de **entrenamiento** para ajustar el modelo.  \n",
        "- Un conjunto de **prueba** para evaluar su rendimiento.\n",
        "\n",
        "La proporción se controla con el parámetro `prop` de la función `initial_split()` del paquete **rsample**.  \n",
        "Valores típicos: **0.6, 0.75 u 0.8** para entrenamiento (y el resto para test).\n",
        "\n",
        "**Ventajas:**\n",
        "- Muy rápido y fácil de implementar.\n",
        "- Útil para pruebas preliminares y para modelos que se entrenan de forma costosa.\n",
        "\n",
        "**Limitaciones:**\n",
        "- Sensible a cómo se dividan los datos: si el subconjunto de test contiene observaciones más difíciles, la estimación del rendimiento puede ser muy pesimista.\n",
        "- La división aleatoria implica que distintos *splits* pueden dar resultados muy diferentes.  \n",
        "  Por eso, **siempre fijamos una semilla con `set.seed()`** para reproducir los mismos resultados.\n",
        "\n",
        "⚠️ Es importante comprobar que **ninguna observación de test** aparezca en el conjunto de entrenamiento.  "
      ],
      "metadata": {
        "id": "FUWWvj6ipvr0"
      }
    },
    {
      "cell_type": "code",
      "source": [
        "set.seed(42)   # reproducibilidad\n",
        "ratio <- 0.2   # 20% para test\n",
        "\n",
        "# Hold-out estratificado por clase\n",
        "split_ho <- initial_split(df, prop = 1 - ratio, strata = \"Class\")\n",
        "\n",
        "train_df <- training(split_ho)\n",
        "test_df  <- testing(split_ho)\n",
        "\n",
        "cat(\"Tamaño entrenamiento:\", nrow(train_df), \"\\n\")\n",
        "cat(\"Tamaño test:\", nrow(test_df), \"\\n\")\n",
        "\n",
        "# Verificar disjunción de instancias\n",
        "solapan <- length(intersect(train_df$idx, test_df$idx)) > 0\n",
        "cat(\"¿Hay solapamiento entre train y test? ->\", solapan, \"\\n\")\n",
        "\n",
        "# Distribución de clases (opcional)\n",
        "cat(\"\\nDistribución de clases:\\n\")\n",
        "print(table(train_df$Class))\n",
        "print(table(test_df$Class))\n"
      ],
      "metadata": {
        "id": "HIkBLiFgg736",
        "colab": {
          "base_uri": "https://localhost:8080/"
        },
        "outputId": "064bd90a-5405-4f97-c890-1e6c5dd6246c"
      },
      "execution_count": 26,
      "outputs": [
        {
          "output_type": "stream",
          "name": "stdout",
          "text": [
            "Tamaño entrenamiento: 558 \n",
            "Tamaño test: 141 \n"
          ]
        },
        {
          "output_type": "stream",
          "name": "stderr",
          "text": [
            "Warning message:\n",
            "“Unknown or uninitialised column: `idx`.”\n"
          ]
        },
        {
          "output_type": "stream",
          "name": "stdout",
          "text": [
            "¿Hay solapamiento entre train y test? -> FALSE \n",
            "\n",
            "Distribución de clases:\n",
            "\n",
            "   benign malignant \n",
            "      366       192 \n",
            "\n",
            "   benign malignant \n",
            "       92        49 \n"
          ]
        }
      ]
    },
    {
      "cell_type": "markdown",
      "source": [
        "### **4 .Validación Cruzada k-Fold**  <a name=\"4\"></a>"
      ],
      "metadata": {
        "id": "TSAa9V--u9p0"
      }
    },
    {
      "cell_type": "markdown",
      "source": [
        "La **validación cruzada k-fold** es el estándar en aprendizaje supervisado:\n",
        "\n",
        "- Divide los datos en **k particiones del mismo tamaño (o casi)**.\n",
        "\n",
        "**Entrena k veces**, usando cada fold como test una única vez y el resto como train.\n",
        "\n",
        "- **Permite usar todos los datos para entrenar y validar**, con una estimación del rendimiento mucho más estable que hold-out.\n",
        "\n",
        "En R con rsample usamos `vfold_cv()`:\n",
        "\n",
        "**Por defecto NO estratifica; si queremos estratificación (clasificación), usaremos strata = \"Class\" (lo veremos en la siguiente sección).**\n",
        "\n",
        "- Aquí primero mostramos el k-fold no estratificado, que emula KFold puro.\n",
        "\n",
        "- Imprimiremos para cada fold:\n",
        "\n",
        "  - Tamaño de train/test.\n",
        "\n",
        "  - Distribución de clases (para ver que puede variar si no estratificamos).\n",
        "\n",
        "  - Algunos índices de ejemplo (usamos la columna idx que creamos al principio).\n",
        "\n"
      ],
      "metadata": {
        "id": "zGqyWdoTzUnL"
      }
    },
    {
      "cell_type": "code",
      "source": [
        "set.seed(42)\n",
        "k <- 5\n",
        "\n",
        "cv_kf <- vfold_cv(df, v = k)  # NO estratificado\n",
        "\n",
        "cat(\"K-Fold (no estratificado):\\n\")\n",
        "for (i in seq_len(nrow(cv_kf))) {\n",
        "  tr <- analysis(cv_kf$splits[[i]])\n",
        "  te <- assessment(cv_kf$splits[[i]])\n",
        "\n",
        "  cat(sprintf(\"\\nFold %d\\n\", i))\n",
        "  cat(\"  Tamaño train/test:\", nrow(tr), \"/\", nrow(te), \"\\n\")\n",
        "  cat(\"  Clases en train: \"); print(table(tr$Class))\n",
        "  cat(\"  Clases en test : \"); print(table(te$Class))\n",
        "  cat(\"  Índices ejemplo (train head): \", paste(head(sort(tr$idx), 8), collapse=\", \"), \"\\n\")\n",
        "  cat(\"  Índices ejemplo (test  head): \", paste(head(sort(te$idx), 8), collapse=\", \"), \"\\n\")\n",
        "}"
      ],
      "metadata": {
        "id": "73X1Bs0OziDf"
      },
      "execution_count": null,
      "outputs": []
    },
    {
      "cell_type": "markdown",
      "source": [
        "### **5. Repeated k-Fold (k-fold repetido)** <a name=\"5\"></a>"
      ],
      "metadata": {
        "id": "eqo02eC_zxsW"
      }
    },
    {
      "cell_type": "markdown",
      "source": [
        "Para **reducir la dependencia de una única partición k-fold**, se puede **repetir el proceso varias veces**.\n",
        "\n",
        "En rsample, basta con vfold_cv(..., repeats = R).\n",
        "\n",
        "Elecciones típicas: k = 5 o 10 y repeats = 3 (si los datos lo permiten).\n",
        "\n",
        "Esto añade **robustez estadística y reduce la varianza de la estimación del rendimiento**. **Es especialmente recomendado para Ns bajas**."
      ],
      "metadata": {
        "id": "H6PT1vW5zysW"
      }
    },
    {
      "cell_type": "code",
      "source": [
        "set.seed(42)\n",
        "k <- 5\n",
        "reps <- 3\n",
        "\n",
        "cv_rkf <- vfold_cv(df, v = k, repeats = reps)  # repetido, no estratificado\n",
        "\n",
        "cat(\"Repeated K-Fold (no estratificado):\\n\")\n",
        "for (i in seq_len(nrow(cv_rkf))) {\n",
        "  tr <- analysis(cv_rkf$splits[[i]])\n",
        "  te <- assessment(cv_rkf$splits[[i]])\n",
        "\n",
        "  # Mostrar comienzo de cada repetición\n",
        "  if ((i - 1) %% k == 0) cat(sprintf(\"\\nRepetición %d\\n\", (i - 1) %/% k + 1))\n",
        "\n",
        "  cat(sprintf(\"  Fold %d (global %d) | train/test: %d/%d\\n\",\n",
        "              ((i - 1) %% k) + 1, i, nrow(tr), nrow(te)))\n",
        "}\n"
      ],
      "metadata": {
        "id": "wfXbcbHizzPm",
        "outputId": "89cd28d7-b93c-43cc-9fe8-353b93286de0",
        "colab": {
          "base_uri": "https://localhost:8080/"
        }
      },
      "execution_count": 28,
      "outputs": [
        {
          "output_type": "stream",
          "name": "stdout",
          "text": [
            "Repeated K-Fold (no estratificado):\n",
            "\n",
            "Repetición 1\n",
            "  Fold 1 (global 1) | train/test: 559/140\n",
            "  Fold 2 (global 2) | train/test: 559/140\n",
            "  Fold 3 (global 3) | train/test: 559/140\n",
            "  Fold 4 (global 4) | train/test: 559/140\n",
            "  Fold 5 (global 5) | train/test: 560/139\n",
            "\n",
            "Repetición 2\n",
            "  Fold 1 (global 6) | train/test: 559/140\n",
            "  Fold 2 (global 7) | train/test: 559/140\n",
            "  Fold 3 (global 8) | train/test: 559/140\n",
            "  Fold 4 (global 9) | train/test: 559/140\n",
            "  Fold 5 (global 10) | train/test: 560/139\n",
            "\n",
            "Repetición 3\n",
            "  Fold 1 (global 11) | train/test: 559/140\n",
            "  Fold 2 (global 12) | train/test: 559/140\n",
            "  Fold 3 (global 13) | train/test: 559/140\n",
            "  Fold 4 (global 14) | train/test: 559/140\n",
            "  Fold 5 (global 15) | train/test: 560/139\n"
          ]
        }
      ]
    },
    {
      "cell_type": "markdown",
      "source": [
        "### **6. Validación Cruzada Estratificada** <a name=\"6\"></a>"
      ],
      "metadata": {
        "id": "876hRQ4OzxWc"
      }
    },
    {
      "cell_type": "markdown",
      "source": [
        "Cuando la **variable objetivo esta desbalanceada** (casos >> controles), es recomendable que **cada fold mantenga la proporción de clases** del conjunto original.\n",
        "\n",
        "En rsample, esto se consigue con `vfold_cv(..., strata = \"Class\")`.\n",
        "\n",
        "Compararemos:\n",
        "\n",
        "- k-fold estratificado (proporciones estables por fold).\n",
        "\n",
        "- k-fold no estratificado (las proporciones pueden fluctuar, especialmente si hay desbalance).\n",
        "\n",
        "**Esto es crucial en biomedicina: evitar sesgos por clases raras (e.g., prevalencia baja).**"
      ],
      "metadata": {
        "id": "v-v9It2o0GBl"
      }
    },
    {
      "cell_type": "code",
      "source": [
        "set.seed(42)\n",
        "k <- 5\n",
        "\n",
        "# Estratificado por clase\n",
        "cv_strat <- vfold_cv(df, v = k, strata = \"Class\")\n",
        "\n",
        "cat(\"Comprobar distribución de clases en K-Fold ESTRATIFICADO:\\n\")\n",
        "for (i in seq_len(nrow(cv_strat))) {\n",
        "  te <- assessment(cv_strat$splits[[i]])\n",
        "  prop <- prop.table(table(te$Class))\n",
        "  cat(sprintf(\"  Fold %d  -> \", i)); print(round(prop, 3))\n",
        "}\n",
        "\n",
        "# No estratificado (para comparar)\n",
        "cv_kf2 <- vfold_cv(df, v = k)\n",
        "\n",
        "cat(\"\\nComprobar distribución de clases en K-Fold NO estratificado:\\n\")\n",
        "for (i in seq_len(nrow(cv_kf2))) {\n",
        "  te <- assessment(cv_kf2$splits[[i]])\n",
        "  prop <- prop.table(table(te$Class))\n",
        "  cat(sprintf(\"  Fold %d  -> \", i)); print(round(prop, 3))\n",
        "}"
      ],
      "metadata": {
        "id": "NinggxMU0UGg",
        "outputId": "e0f669ff-5e6b-4301-c959-43bc8a58af9c",
        "colab": {
          "base_uri": "https://localhost:8080/"
        }
      },
      "execution_count": 29,
      "outputs": [
        {
          "output_type": "stream",
          "name": "stdout",
          "text": [
            "Comprobar distribución de clases en K-Fold ESTRATIFICADO:\n",
            "  Fold 1  -> \n",
            "   benign malignant \n",
            "    0.652     0.348 \n",
            "  Fold 2  -> \n",
            "   benign malignant \n",
            "    0.657     0.343 \n",
            "  Fold 3  -> \n",
            "   benign malignant \n",
            "    0.657     0.343 \n",
            "  Fold 4  -> \n",
            "   benign malignant \n",
            "    0.655     0.345 \n",
            "  Fold 5  -> \n",
            "   benign malignant \n",
            "    0.655     0.345 \n",
            "\n",
            "Comprobar distribución de clases en K-Fold NO estratificado:\n",
            "  Fold 1  -> \n",
            "   benign malignant \n",
            "    0.621     0.379 \n",
            "  Fold 2  -> \n",
            "   benign malignant \n",
            "    0.693     0.307 \n",
            "  Fold 3  -> \n",
            "   benign malignant \n",
            "    0.629     0.371 \n",
            "  Fold 4  -> \n",
            "   benign malignant \n",
            "    0.707     0.293 \n",
            "  Fold 5  -> \n",
            "   benign malignant \n",
            "    0.626     0.374 \n"
          ]
        }
      ]
    },
    {
      "cell_type": "markdown",
      "source": [
        "### **7. Validación Leave-One-Out (LOO)** <a name=\"7\"></a>\n"
      ],
      "metadata": {
        "id": "2JqQclPQ11kv"
      }
    },
    {
      "cell_type": "markdown",
      "source": [
        "LOO es un **caso límite del k-fold** con k = n (una observación queda para test en cada iteración):\n",
        "\n",
        "Cada modelo se ajusta con (n − 1) muestras y se evalúa con 1 muestra.\n",
        "\n",
        "**Coste computacional muy alto (entrenas n modelos)**.\n",
        "\n",
        "Suele presentar **alta varianza en la estimación** (los entrenamientos son casi idénticos pero puede haber mucho cambio en la estimación).\n",
        "\n",
        "En rsample, LOO se construye con loo_cv().\n",
        "+\n",
        "Mostraremos el número de particiones creadas y un ejemplo de la última partición."
      ],
      "metadata": {
        "id": "MbEDYr500hdY"
      }
    },
    {
      "cell_type": "code",
      "source": [
        "# ¡Cuidado! LOO crea tantos splits como filas en df.\n",
        "cv_loo <- loo_cv(df)\n",
        "\n",
        "cat(\"Número de particiones LOO:\", nrow(cv_loo), \"\\n\")\n",
        "\n",
        "# Tomamos la última partición como ejemplo\n",
        "last_split <- cv_loo$splits[[nrow(cv_loo)]]\n",
        "tr <- analysis(last_split)\n",
        "te <- assessment(last_split)\n",
        "\n",
        "cat(sprintf(\"Ejemplo última partición: sizeTrain[%d] sizeTest[%d]\\n\",\n",
        "            nrow(tr), nrow(te)))\n",
        "cat(\"Índice test:\", te$idx, \"\\n\")  # la única muestra en test"
      ],
      "metadata": {
        "id": "lodwtXst14Y5",
        "outputId": "33f95043-5fe4-4567-8bcc-e05c84fb212f",
        "colab": {
          "base_uri": "https://localhost:8080/"
        }
      },
      "execution_count": 30,
      "outputs": [
        {
          "output_type": "stream",
          "name": "stdout",
          "text": [
            "Número de particiones LOO: 699 \n",
            "Ejemplo última partición: sizeTrain[698] sizeTest[1]\n"
          ]
        },
        {
          "output_type": "stream",
          "name": "stderr",
          "text": [
            "Warning message:\n",
            "“Unknown or uninitialised column: `idx`.”\n"
          ]
        },
        {
          "output_type": "stream",
          "name": "stdout",
          "text": [
            "Índice test: \n"
          ]
        }
      ]
    },
    {
      "cell_type": "markdown",
      "source": [
        "### **8. Resumen y comparación de técnicas** <a name=\"8\"></a>"
      ],
      "metadata": {
        "id": "dX1cCo9B4W_k"
      }
    },
    {
      "cell_type": "markdown",
      "source": [
        "**Notas y recomendaciones prácticas (R)**\n",
        "- Fija semilla (`set.seed()`) antes de crear particiones para reproducibilidad.\n",
        "\n",
        "- En clasificación, usa estratificación `(strata = \"Class\")` en `initial_split()` y `vfold_cv()` para mantener proporciones.\n",
        "\n",
        "- Cuando el dataset es pequeño y/o hay desbalance de clases, prefiere k-fold (o repeated k-fold) frente a hold-out.\n",
        "\n",
        "- LOO solo cuando el dataset es muy pequeño y el coste lo permite; ten en cuenta su alta varianza.\n",
        "\n",
        "- Para evaluar modelos dentro de cada partición, integra el entrenamiento (p. ej., glm, rpart, randomForest, xgboost) dentro del bucle de vfold_cv y guarda métricas (accuracy, AUC, etc.) promediando sobre folds.\n",
        "\n",
        "A continuación podemos ver una comparativa de los métodos de particionamiento."
      ],
      "metadata": {
        "id": "X-IyLSKO2Mg9"
      }
    },
    {
      "cell_type": "markdown",
      "source": [
        "| Método                   | Descripción                                                                                                              | Ventajas                                                        | Desventajas                                                                                      | Uso recomendado                                                           |\n",
        "| ------------------------ | ------------------------------------------------------------------------------------------------------------------------ | --------------------------------------------------------------- | ------------------------------------------------------------------------------------------------ | ------------------------------------------------------------------------- |\n",
        "| **Hold-out**             | Divide el dataset en dos conjuntos (train y test) con un ratio fijo (p. ej. 80%-20%).                                    | Simple, rápido y fácil de implementar.                          | Resultados muy dependientes de cómo se hace la división. Posible sesgo si la muestra es pequeña. | Pruebas rápidas, datasets grandes, estimación inicial del rendimiento.    |\n",
        "| **K-Fold**               | Divide el dataset en *k* partes y entrena *k* veces, usando en cada iteración una parte para test y el resto para train. | Usa todos los datos para entrenamiento y test, reduce sesgo.    | Más coste computacional que hold-out.                                                            | Evaluaciones más rigurosas, datasets medianos o pequeños.                 |\n",
        "| **Repeated K-Fold**      | Igual que K-Fold, pero repite el proceso varias veces con diferentes divisiones aleatorias.                              | Reduce el efecto de divisiones azarosas.                        | Incrementa el coste computacional.                                                               | Cuando se quiere robustez estadística y se dispone de tiempo de cómputo.  |\n",
        "| **K-Fold Estratificado** | Variante de K-Fold que preserva la proporción de clases en cada fold.                                                    | Evita sesgo en clasificación con clases desbalanceadas.         | Solo aplicable a clasificación.                                                                  | Clasificación con datos desbalanceados.                                   |\n",
        "| **Leave-One-Out (LOO)**  | Cada instancia se usa una vez como test y el resto como train (n modelos en total).                                      | Usa el máximo de datos posible para entrenar en cada iteración. | Muy costoso computacionalmente y alta varianza en los resultados.                                | Datasets muy pequeños donde no se quiera perder datos para entrenamiento. |\n"
      ],
      "metadata": {
        "id": "kUGsZNGP24wB"
      }
    }
  ]
}
