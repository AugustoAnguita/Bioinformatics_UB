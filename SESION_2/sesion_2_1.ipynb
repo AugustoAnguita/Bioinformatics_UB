{
  "nbformat": 4,
  "nbformat_minor": 0,
  "metadata": {
    "colab": {
      "provenance": [],
      "gpuType": "T4"
    },
    "kernelspec": {
      "name": "ir",
      "display_name": "R"
    },
    "language_info": {
      "name": "R"
    },
    "accelerator": "GPU"
  },
  "cells": [
    {
      "cell_type": "markdown",
      "metadata": {
        "id": "view-in-github"
      },
      "source": [
        "<a href=\"https://colab.research.google.com/github/AugustoAnguita/Bioinformatics_UB/blob/main/SESION_2/sesion_2_1.ipynb\" target=\"_parent\"><img src=\"https://colab.research.google.com/assets/colab-badge.svg\" alt=\"Open In Colab\"/></a>"
      ]
    },
    {
      "cell_type": "markdown",
      "source": [
        "# **VISUALIZACIÓN DE RESULTADOS DE PCA GENÓMICO: ESTRATIFICACIÓN POBLACIONAL**  \n",
        "\n",
        "\n"
      ],
      "metadata": {
        "id": "Dqcog9uUbeZk"
      }
    },
    {
      "cell_type": "markdown",
      "source": [
        "# **Recordatorio: Introducción al NoteBook**\n",
        "Dentro de este cuaderno (NoteBook), se te guiará paso a paso desde la carga de un conjunto de datos hasta la realización del análisis de su contenido.\n",
        "\n",
        "El cuaderno *Jupyter* (Python) es un enfoque que combina bloques de texto (como este) junto con bloques o celdas de código. La gran ventaja de este tipo de celda es su interactividad, ya que pueden ejecutarse para comprobar los resultados directamente en ellas. *Muy importante:* **el orden de las instrucciones es fundamental**, por lo que cada celda de este cuaderno debe ejecutarse secuencialmente. Si se omite alguna, el programa puede dar un error, así que, en caso de duda, debes comenzar desde el principio.\n",
        "\n",
        "Antes que nada:\n",
        "\n",
        "Es **muy muy importante** que al inicio selecciones **\"*Open in draft mode*\" (draft mode)** (modo borrador), en la parte superior izquierda. De lo contrario, no te permitirá ejecutar ningún bloque de código, por motivos de seguridad. Cuando se ejecute el primero de los bloques aparecerá el siguiente mensaje: \"*Warning: This notebook was not created by Google.*\". No te preocupes, debes confiar en el contenido del cuaderno (NoteBook) y hacer clic en \"Run anyway\".\n",
        "\n",
        "¡Vamos allá!\n",
        "\n",
        "Haz clic en el botón \"play\" situado a la izquierda de cada celda de código. Las líneas de código que comienzan con una almohadilla (#) son comentarios y no afectan a la ejecución del programa.\n",
        "\n",
        "También puedes hacer clic en cada celda y presionar \"*ctrl+enter*\" (*cmd+enter* on Mac).\n",
        "\n",
        "Cada vez que ejecutes un bloque, verás la salida justo debajo. La información suele estar siempre relacionada con la última instrucción, junto con todos los comandos `print()` que aparezcan en el código.\n",
        "\n",
        "\n"
      ],
      "metadata": {
        "id": "EKKM1PhGbg9e"
      }
    },
    {
      "cell_type": "markdown",
      "source": [
        "## **INDICE**\n",
        "1. [Instalación del Entorno R y Librerías para Análisis del Exposoma](#install-libraries)    \n",
        "2. [Carga y preparación de datos](#load-data)\n",
        "3. [Visualización de resultados de PCA](#descriptive)   \n"
      ],
      "metadata": {
        "id": "SLQByQt6boyV"
      }
    },
    {
      "cell_type": "markdown",
      "source": [
        "## **1. Instalación del Entorno R y Librerías para Análisis del Exposoma** <a name=\"install-libraries\"></a>\n",
        "\n",
        "A continuación, instalamos/cargamos las librerías necesarias para esta sesión. En el contexto del análisis del exposoma, las librerías de R nos ofrecen una forma mucho más conveniente de procesar, manipular y analizar los datos. Algunas de estas librerías: `tidyverse`, `skimr`, `readr`.\n",
        "\n",
        "La instalación de R en nuestro entorno de Google Colab se llevará a cabo en el siguiente bloque de código. Debe recordarse que todas las instalaciones de librerías que realicemos en el entorno de Google Colab permanecerán activas solo durante unas horas, tras lo cual las librerías instaladas se eliminan. Por lo tanto, será necesario volver a ejecutar el código de instalación de librerías de esta sección siempre que se necesite volver a correr el cuaderno después de este tiempo.\n",
        "\n",
        "Nota: Recomendamos instalar las librerías 5 minutos antes del inicio de la sesión❗❗❗\n"
      ],
      "metadata": {
        "id": "FzcR99tI-Yhe"
      }
    },
    {
      "cell_type": "code",
      "source": [
        "# first we check the R version we have\n",
        "R.Version()"
      ],
      "metadata": {
        "id": "72VUo583KVQE",
        "colab": {
          "base_uri": "https://localhost:8080/",
          "height": 531
        },
        "outputId": "59d1290a-0b36-49f9-c086-b8d394b337ae"
      },
      "execution_count": 2,
      "outputs": [
        {
          "output_type": "display_data",
          "data": {
            "text/html": [
              "<dl>\n",
              "\t<dt>$platform</dt>\n",
              "\t\t<dd>'x86_64-pc-linux-gnu'</dd>\n",
              "\t<dt>$arch</dt>\n",
              "\t\t<dd>'x86_64'</dd>\n",
              "\t<dt>$os</dt>\n",
              "\t\t<dd>'linux-gnu'</dd>\n",
              "\t<dt>$system</dt>\n",
              "\t\t<dd>'x86_64, linux-gnu'</dd>\n",
              "\t<dt>$status</dt>\n",
              "\t\t<dd>''</dd>\n",
              "\t<dt>$major</dt>\n",
              "\t\t<dd>'4'</dd>\n",
              "\t<dt>$minor</dt>\n",
              "\t\t<dd>'5.1'</dd>\n",
              "\t<dt>$year</dt>\n",
              "\t\t<dd>'2025'</dd>\n",
              "\t<dt>$month</dt>\n",
              "\t\t<dd>'06'</dd>\n",
              "\t<dt>$day</dt>\n",
              "\t\t<dd>'13'</dd>\n",
              "\t<dt>$`svn rev`</dt>\n",
              "\t\t<dd>'88306'</dd>\n",
              "\t<dt>$language</dt>\n",
              "\t\t<dd>'R'</dd>\n",
              "\t<dt>$version.string</dt>\n",
              "\t\t<dd>'R version 4.5.1 (2025-06-13)'</dd>\n",
              "\t<dt>$nickname</dt>\n",
              "\t\t<dd>'Great Square Root'</dd>\n",
              "</dl>\n"
            ],
            "text/markdown": "$platform\n:   'x86_64-pc-linux-gnu'\n$arch\n:   'x86_64'\n$os\n:   'linux-gnu'\n$system\n:   'x86_64, linux-gnu'\n$status\n:   ''\n$major\n:   '4'\n$minor\n:   '5.1'\n$year\n:   '2025'\n$month\n:   '06'\n$day\n:   '13'\n$`svn rev`\n:   '88306'\n$language\n:   'R'\n$version.string\n:   'R version 4.5.1 (2025-06-13)'\n$nickname\n:   'Great Square Root'\n\n\n",
            "text/latex": "\\begin{description}\n\\item[\\$platform] 'x86\\_64-pc-linux-gnu'\n\\item[\\$arch] 'x86\\_64'\n\\item[\\$os] 'linux-gnu'\n\\item[\\$system] 'x86\\_64, linux-gnu'\n\\item[\\$status] ''\n\\item[\\$major] '4'\n\\item[\\$minor] '5.1'\n\\item[\\$year] '2025'\n\\item[\\$month] '06'\n\\item[\\$day] '13'\n\\item[\\$`svn rev`] '88306'\n\\item[\\$language] 'R'\n\\item[\\$version.string] 'R version 4.5.1 (2025-06-13)'\n\\item[\\$nickname] 'Great Square Root'\n\\end{description}\n",
            "text/plain": [
              "$platform\n",
              "[1] \"x86_64-pc-linux-gnu\"\n",
              "\n",
              "$arch\n",
              "[1] \"x86_64\"\n",
              "\n",
              "$os\n",
              "[1] \"linux-gnu\"\n",
              "\n",
              "$system\n",
              "[1] \"x86_64, linux-gnu\"\n",
              "\n",
              "$status\n",
              "[1] \"\"\n",
              "\n",
              "$major\n",
              "[1] \"4\"\n",
              "\n",
              "$minor\n",
              "[1] \"5.1\"\n",
              "\n",
              "$year\n",
              "[1] \"2025\"\n",
              "\n",
              "$month\n",
              "[1] \"06\"\n",
              "\n",
              "$day\n",
              "[1] \"13\"\n",
              "\n",
              "$`svn rev`\n",
              "[1] \"88306\"\n",
              "\n",
              "$language\n",
              "[1] \"R\"\n",
              "\n",
              "$version.string\n",
              "[1] \"R version 4.5.1 (2025-06-13)\"\n",
              "\n",
              "$nickname\n",
              "[1] \"Great Square Root\"\n"
            ]
          },
          "metadata": {}
        }
      ]
    },
    {
      "cell_type": "markdown",
      "source": [
        "* **Install/load libraries for the session**\n",
        "\n",
        "We will install/load the libraries necessary for the practical session, for this we will use the `pacman` package, this package is a management tool that combines the functionalities of the `install.packages` + `library` functions.\n"
      ],
      "metadata": {
        "id": "QMFsFs-2KPCA"
      }
    },
    {
      "cell_type": "code",
      "source": [
        "# Estimated execution time: 3 seconds approx.\n",
        "\n",
        "install.packages('pacman') # allows us to install/upload packages simultaneously"
      ],
      "metadata": {
        "id": "Qhzv4rIHLHzm",
        "colab": {
          "base_uri": "https://localhost:8080/"
        },
        "outputId": "cde2d14c-66e5-4039-9f80-b42c6355c266"
      },
      "execution_count": 3,
      "outputs": [
        {
          "output_type": "stream",
          "name": "stderr",
          "text": [
            "Installing package into ‘/usr/local/lib/R/site-library’\n",
            "(as ‘lib’ is unspecified)\n",
            "\n"
          ]
        }
      ]
    },
    {
      "cell_type": "markdown",
      "source": [
        "We will install `BiocManager` and `rexposome` (these two packages are essential for exposome analysis) using the following code, as there are sometimes compatibility issues with the R version (the process takes around **20 minutes**, so it is recommended to install it during the theory session)."
      ],
      "metadata": {
        "id": "bGVMG60NMEiF"
      }
    },
    {
      "cell_type": "code",
      "source": [
        "# Estimated execution time: 23 minutes approx.\n",
        "\n",
        "if (!requireNamespace(\"BiocManager\", quietly=TRUE))\n",
        "    install.packages(\"BiocManager\")\n",
        "\n",
        "packages = c(\"tidyverse\", \"readr\", \"skimr\"\n",
        ")\n",
        "for( pkg in packages ) {\n",
        "  if( !pkg %in% rownames( installed.packages() ) ) {\n",
        "    message( \"Installing \", pkg )\n",
        "    BiocManager::install( pkg )\n",
        "  }\n",
        "}"
      ],
      "metadata": {
        "id": "G1VMrFw4E9kD",
        "colab": {
          "base_uri": "https://localhost:8080/"
        },
        "outputId": "dd387758-b9fd-4eb8-b5b6-be7f9028f5cc"
      },
      "execution_count": 13,
      "outputs": [
        {
          "output_type": "stream",
          "name": "stderr",
          "text": [
            "Installing skimr\n",
            "\n",
            "'getOption(\"repos\")' replaces Bioconductor standard repositories, see\n",
            "'help(\"repositories\", package = \"BiocManager\")' for details.\n",
            "Replacement repositories:\n",
            "    CRAN: https://cran.rstudio.com\n",
            "\n",
            "Bioconductor version 3.21 (BiocManager 1.30.26), R 4.5.1 (2025-06-13)\n",
            "\n",
            "Installing package(s) 'BiocVersion', 'skimr'\n",
            "\n"
          ]
        }
      ]
    },
    {
      "cell_type": "code",
      "source": [
        "# Estimated execution time: XX minutes approx.\n",
        "# Add all the libraries we need to use (if the package is already installed, it will automatically load the package if it is in the pacman::p_load() function).\n",
        "pacman::p_load(tidyverse, readr, skimr)"
      ],
      "metadata": {
        "id": "0bd6Fmjy7LNA"
      },
      "execution_count": 14,
      "outputs": []
    },
    {
      "cell_type": "code",
      "source": [
        "#if (!require(\"BiocManager\", quietly = TRUE))\n",
        "#  install.packages(\"BiocManager\")\n",
        "#BiocManager::install(\"rexposome\", force = TRUE)\n"
      ],
      "metadata": {
        "id": "KVvSDV-MbDT8"
      },
      "execution_count": null,
      "outputs": []
    },
    {
      "cell_type": "markdown",
      "source": [
        "## **2. Carga y preparación de datos** <a name=\"load-data\"></a>\n",
        "\n",
        "A continuación encontramos las **líneas de código** necesarias para **cargar** los datos genómicos y resultados del PCA llevado a cabo con PLINK durante la clase."
      ],
      "metadata": {
        "id": "DsoalTRZdIdV"
      }
    },
    {
      "cell_type": "markdown",
      "source": [
        "**1.-** Carga de datos (los datos han sido alojados en un servidor Github público para facilitar su carga)."
      ],
      "metadata": {
        "id": "VSUqs-A60QcI"
      }
    },
    {
      "cell_type": "code",
      "source": [
        "# We will load the databases as tsv files\n",
        "pca <- read_tsv(url(\"https://raw.githubusercontent.com/AugustoAnguita/Bioinformatics_UB/main/SESION_2/datasets/sample_data.clean_pca_projected.sscore\"))\n",
        "ped <- read_tsv(url(\"https://raw.githubusercontent.com/AugustoAnguita/Bioinformatics_UB/main/SESION_2/datasets/integrated_call_samples_v3.20130502.ALL.panel\"))"
      ],
      "metadata": {
        "id": "QdsjN_rcoB6i",
        "colab": {
          "base_uri": "https://localhost:8080/"
        },
        "outputId": "c828f4f1-b53f-4944-e405-1381e8fd8b11"
      },
      "execution_count": 8,
      "outputs": [
        {
          "output_type": "stream",
          "name": "stderr",
          "text": [
            "\u001b[1mRows: \u001b[22m\u001b[34m500\u001b[39m \u001b[1mColumns: \u001b[22m\u001b[34m14\u001b[39m\n",
            "\u001b[36m──\u001b[39m \u001b[1mColumn specification\u001b[22m \u001b[36m────────────────────────────────────────────────────────\u001b[39m\n",
            "\u001b[1mDelimiter:\u001b[22m \"\\t\"\n",
            "\u001b[31mchr\u001b[39m  (2): #FID, IID\n",
            "\u001b[32mdbl\u001b[39m (12): ALLELE_CT, NAMED_ALLELE_DOSAGE_SUM, PC1_AVG, PC2_AVG, PC3_AVG, PC4...\n",
            "\n",
            "\u001b[36mℹ\u001b[39m Use `spec()` to retrieve the full column specification for this data.\n",
            "\u001b[36mℹ\u001b[39m Specify the column types or set `show_col_types = FALSE` to quiet this message.\n",
            "\u001b[1m\u001b[22mNew names:\n",
            "\u001b[36m•\u001b[39m `` -> `...5`\n",
            "\u001b[36m•\u001b[39m `` -> `...6`\n",
            "Warning message:\n",
            "“\u001b[1m\u001b[22mOne or more parsing issues, call `problems()` on your data frame for details,\n",
            "e.g.:\n",
            "  dat <- vroom(...)\n",
            "  problems(dat)”\n",
            "\u001b[1mRows: \u001b[22m\u001b[34m2504\u001b[39m \u001b[1mColumns: \u001b[22m\u001b[34m6\u001b[39m\n",
            "\u001b[36m──\u001b[39m \u001b[1mColumn specification\u001b[22m \u001b[36m────────────────────────────────────────────────────────\u001b[39m\n",
            "\u001b[1mDelimiter:\u001b[22m \"\\t\"\n",
            "\u001b[31mchr\u001b[39m (4): sample, pop, super_pop, gender\n",
            "\u001b[33mlgl\u001b[39m (2): ...5, ...6\n",
            "\n",
            "\u001b[36mℹ\u001b[39m Use `spec()` to retrieve the full column specification for this data.\n",
            "\u001b[36mℹ\u001b[39m Specify the column types or set `show_col_types = FALSE` to quiet this message.\n"
          ]
        }
      ]
    },
    {
      "cell_type": "code",
      "source": [
        "#Exploramos las primeras filas y columnas de cada dataset\n",
        "head(pca)\n",
        "head(ped)"
      ],
      "metadata": {
        "id": "TD37CVA45ObF",
        "colab": {
          "base_uri": "https://localhost:8080/",
          "height": 555
        },
        "outputId": "90ce32ee-23ff-492f-a0df-c9f6423e175d"
      },
      "execution_count": 11,
      "outputs": [
        {
          "output_type": "display_data",
          "data": {
            "text/html": [
              "<table class=\"dataframe\">\n",
              "<caption>A tibble: 6 × 14</caption>\n",
              "<thead>\n",
              "\t<tr><th scope=col>#FID</th><th scope=col>IID</th><th scope=col>ALLELE_CT</th><th scope=col>NAMED_ALLELE_DOSAGE_SUM</th><th scope=col>PC1_AVG</th><th scope=col>PC2_AVG</th><th scope=col>PC3_AVG</th><th scope=col>PC4_AVG</th><th scope=col>PC5_AVG</th><th scope=col>PC6_AVG</th><th scope=col>PC7_AVG</th><th scope=col>PC8_AVG</th><th scope=col>PC9_AVG</th><th scope=col>PC10_AVG</th></tr>\n",
              "\t<tr><th scope=col>&lt;chr&gt;</th><th scope=col>&lt;chr&gt;</th><th scope=col>&lt;dbl&gt;</th><th scope=col>&lt;dbl&gt;</th><th scope=col>&lt;dbl&gt;</th><th scope=col>&lt;dbl&gt;</th><th scope=col>&lt;dbl&gt;</th><th scope=col>&lt;dbl&gt;</th><th scope=col>&lt;dbl&gt;</th><th scope=col>&lt;dbl&gt;</th><th scope=col>&lt;dbl&gt;</th><th scope=col>&lt;dbl&gt;</th><th scope=col>&lt;dbl&gt;</th><th scope=col>&lt;dbl&gt;</th></tr>\n",
              "</thead>\n",
              "<tbody>\n",
              "\t<tr><td>HG00403</td><td>HG00403</td><td>460114</td><td>460114</td><td>-1.91899e-03</td><td>-0.0249041</td><td> 0.00535490</td><td>-0.01199200</td><td>-0.00485106</td><td>-0.00273264</td><td>-0.00538222</td><td>-0.000836390</td><td> 0.000970541</td><td> 0.00643414</td></tr>\n",
              "\t<tr><td>HG00404</td><td>HG00404</td><td>460536</td><td>460536</td><td> 4.46981e-05</td><td>-0.0288385</td><td>-0.01241940</td><td>-0.02323740</td><td> 0.01161420</td><td>-0.00995106</td><td>-0.00962372</td><td>-0.003394630</td><td> 0.014823800</td><td> 0.02322080</td></tr>\n",
              "\t<tr><td>HG00406</td><td>HG00406</td><td>458094</td><td>458094</td><td>-7.41941e-03</td><td>-0.0311196</td><td>-0.00172778</td><td> 0.00314729</td><td> 0.01217780</td><td> 0.00507137</td><td> 0.00880640</td><td>-0.013876400</td><td>-0.003144900</td><td>-0.00325521</td></tr>\n",
              "\t<tr><td>HG00407</td><td>HG00407</td><td>458388</td><td>458388</td><td>-6.11975e-03</td><td>-0.0262028</td><td> 0.00675476</td><td> 0.00381032</td><td> 0.01620170</td><td> 0.00246113</td><td>-0.01939580</td><td>-0.000398213</td><td> 0.011081600</td><td> 0.01534630</td></tr>\n",
              "\t<tr><td>HG00409</td><td>HG00409</td><td>461730</td><td>461730</td><td>-9.47582e-05</td><td>-0.0296013</td><td> 0.00609516</td><td> 0.01726930</td><td>-0.01723710</td><td>-0.00445599</td><td> 0.01525370</td><td> 0.002898720</td><td> 0.038673400</td><td> 0.03945910</td></tr>\n",
              "\t<tr><td>HG00410</td><td>HG00410</td><td>461618</td><td>461618</td><td>-1.99981e-03</td><td>-0.0273981</td><td> 0.00259013</td><td> 0.01645980</td><td>-0.01664450</td><td> 0.01182640</td><td> 0.02982370</td><td>-0.004118110</td><td> 0.034750400</td><td> 0.04645940</td></tr>\n",
              "</tbody>\n",
              "</table>\n"
            ],
            "text/markdown": "\nA tibble: 6 × 14\n\n| #FID &lt;chr&gt; | IID &lt;chr&gt; | ALLELE_CT &lt;dbl&gt; | NAMED_ALLELE_DOSAGE_SUM &lt;dbl&gt; | PC1_AVG &lt;dbl&gt; | PC2_AVG &lt;dbl&gt; | PC3_AVG &lt;dbl&gt; | PC4_AVG &lt;dbl&gt; | PC5_AVG &lt;dbl&gt; | PC6_AVG &lt;dbl&gt; | PC7_AVG &lt;dbl&gt; | PC8_AVG &lt;dbl&gt; | PC9_AVG &lt;dbl&gt; | PC10_AVG &lt;dbl&gt; |\n|---|---|---|---|---|---|---|---|---|---|---|---|---|---|\n| HG00403 | HG00403 | 460114 | 460114 | -1.91899e-03 | -0.0249041 |  0.00535490 | -0.01199200 | -0.00485106 | -0.00273264 | -0.00538222 | -0.000836390 |  0.000970541 |  0.00643414 |\n| HG00404 | HG00404 | 460536 | 460536 |  4.46981e-05 | -0.0288385 | -0.01241940 | -0.02323740 |  0.01161420 | -0.00995106 | -0.00962372 | -0.003394630 |  0.014823800 |  0.02322080 |\n| HG00406 | HG00406 | 458094 | 458094 | -7.41941e-03 | -0.0311196 | -0.00172778 |  0.00314729 |  0.01217780 |  0.00507137 |  0.00880640 | -0.013876400 | -0.003144900 | -0.00325521 |\n| HG00407 | HG00407 | 458388 | 458388 | -6.11975e-03 | -0.0262028 |  0.00675476 |  0.00381032 |  0.01620170 |  0.00246113 | -0.01939580 | -0.000398213 |  0.011081600 |  0.01534630 |\n| HG00409 | HG00409 | 461730 | 461730 | -9.47582e-05 | -0.0296013 |  0.00609516 |  0.01726930 | -0.01723710 | -0.00445599 |  0.01525370 |  0.002898720 |  0.038673400 |  0.03945910 |\n| HG00410 | HG00410 | 461618 | 461618 | -1.99981e-03 | -0.0273981 |  0.00259013 |  0.01645980 | -0.01664450 |  0.01182640 |  0.02982370 | -0.004118110 |  0.034750400 |  0.04645940 |\n\n",
            "text/latex": "A tibble: 6 × 14\n\\begin{tabular}{llllllllllllll}\n \\#FID & IID & ALLELE\\_CT & NAMED\\_ALLELE\\_DOSAGE\\_SUM & PC1\\_AVG & PC2\\_AVG & PC3\\_AVG & PC4\\_AVG & PC5\\_AVG & PC6\\_AVG & PC7\\_AVG & PC8\\_AVG & PC9\\_AVG & PC10\\_AVG\\\\\n <chr> & <chr> & <dbl> & <dbl> & <dbl> & <dbl> & <dbl> & <dbl> & <dbl> & <dbl> & <dbl> & <dbl> & <dbl> & <dbl>\\\\\n\\hline\n\t HG00403 & HG00403 & 460114 & 460114 & -1.91899e-03 & -0.0249041 &  0.00535490 & -0.01199200 & -0.00485106 & -0.00273264 & -0.00538222 & -0.000836390 &  0.000970541 &  0.00643414\\\\\n\t HG00404 & HG00404 & 460536 & 460536 &  4.46981e-05 & -0.0288385 & -0.01241940 & -0.02323740 &  0.01161420 & -0.00995106 & -0.00962372 & -0.003394630 &  0.014823800 &  0.02322080\\\\\n\t HG00406 & HG00406 & 458094 & 458094 & -7.41941e-03 & -0.0311196 & -0.00172778 &  0.00314729 &  0.01217780 &  0.00507137 &  0.00880640 & -0.013876400 & -0.003144900 & -0.00325521\\\\\n\t HG00407 & HG00407 & 458388 & 458388 & -6.11975e-03 & -0.0262028 &  0.00675476 &  0.00381032 &  0.01620170 &  0.00246113 & -0.01939580 & -0.000398213 &  0.011081600 &  0.01534630\\\\\n\t HG00409 & HG00409 & 461730 & 461730 & -9.47582e-05 & -0.0296013 &  0.00609516 &  0.01726930 & -0.01723710 & -0.00445599 &  0.01525370 &  0.002898720 &  0.038673400 &  0.03945910\\\\\n\t HG00410 & HG00410 & 461618 & 461618 & -1.99981e-03 & -0.0273981 &  0.00259013 &  0.01645980 & -0.01664450 &  0.01182640 &  0.02982370 & -0.004118110 &  0.034750400 &  0.04645940\\\\\n\\end{tabular}\n",
            "text/plain": [
              "  #FID    IID     ALLELE_CT NAMED_ALLELE_DOSAGE_SUM PC1_AVG      PC2_AVG   \n",
              "1 HG00403 HG00403 460114    460114                  -1.91899e-03 -0.0249041\n",
              "2 HG00404 HG00404 460536    460536                   4.46981e-05 -0.0288385\n",
              "3 HG00406 HG00406 458094    458094                  -7.41941e-03 -0.0311196\n",
              "4 HG00407 HG00407 458388    458388                  -6.11975e-03 -0.0262028\n",
              "5 HG00409 HG00409 461730    461730                  -9.47582e-05 -0.0296013\n",
              "6 HG00410 HG00410 461618    461618                  -1.99981e-03 -0.0273981\n",
              "  PC3_AVG     PC4_AVG     PC5_AVG     PC6_AVG     PC7_AVG     PC8_AVG     \n",
              "1  0.00535490 -0.01199200 -0.00485106 -0.00273264 -0.00538222 -0.000836390\n",
              "2 -0.01241940 -0.02323740  0.01161420 -0.00995106 -0.00962372 -0.003394630\n",
              "3 -0.00172778  0.00314729  0.01217780  0.00507137  0.00880640 -0.013876400\n",
              "4  0.00675476  0.00381032  0.01620170  0.00246113 -0.01939580 -0.000398213\n",
              "5  0.00609516  0.01726930 -0.01723710 -0.00445599  0.01525370  0.002898720\n",
              "6  0.00259013  0.01645980 -0.01664450  0.01182640  0.02982370 -0.004118110\n",
              "  PC9_AVG      PC10_AVG   \n",
              "1  0.000970541  0.00643414\n",
              "2  0.014823800  0.02322080\n",
              "3 -0.003144900 -0.00325521\n",
              "4  0.011081600  0.01534630\n",
              "5  0.038673400  0.03945910\n",
              "6  0.034750400  0.04645940"
            ]
          },
          "metadata": {}
        },
        {
          "output_type": "display_data",
          "data": {
            "text/html": [
              "<table class=\"dataframe\">\n",
              "<caption>A tibble: 6 × 6</caption>\n",
              "<thead>\n",
              "\t<tr><th scope=col>sample</th><th scope=col>pop</th><th scope=col>super_pop</th><th scope=col>gender</th><th scope=col>...5</th><th scope=col>...6</th></tr>\n",
              "\t<tr><th scope=col>&lt;chr&gt;</th><th scope=col>&lt;chr&gt;</th><th scope=col>&lt;chr&gt;</th><th scope=col>&lt;chr&gt;</th><th scope=col>&lt;lgl&gt;</th><th scope=col>&lt;lgl&gt;</th></tr>\n",
              "</thead>\n",
              "<tbody>\n",
              "\t<tr><td>HG00096</td><td>GBR</td><td>EUR</td><td>male  </td><td>NA</td><td>NA</td></tr>\n",
              "\t<tr><td>HG00097</td><td>GBR</td><td>EUR</td><td>female</td><td>NA</td><td>NA</td></tr>\n",
              "\t<tr><td>HG00099</td><td>GBR</td><td>EUR</td><td>female</td><td>NA</td><td>NA</td></tr>\n",
              "\t<tr><td>HG00100</td><td>GBR</td><td>EUR</td><td>female</td><td>NA</td><td>NA</td></tr>\n",
              "\t<tr><td>HG00101</td><td>GBR</td><td>EUR</td><td>male  </td><td>NA</td><td>NA</td></tr>\n",
              "\t<tr><td>HG00102</td><td>GBR</td><td>EUR</td><td>female</td><td>NA</td><td>NA</td></tr>\n",
              "</tbody>\n",
              "</table>\n"
            ],
            "text/markdown": "\nA tibble: 6 × 6\n\n| sample &lt;chr&gt; | pop &lt;chr&gt; | super_pop &lt;chr&gt; | gender &lt;chr&gt; | ...5 &lt;lgl&gt; | ...6 &lt;lgl&gt; |\n|---|---|---|---|---|---|\n| HG00096 | GBR | EUR | male   | NA | NA |\n| HG00097 | GBR | EUR | female | NA | NA |\n| HG00099 | GBR | EUR | female | NA | NA |\n| HG00100 | GBR | EUR | female | NA | NA |\n| HG00101 | GBR | EUR | male   | NA | NA |\n| HG00102 | GBR | EUR | female | NA | NA |\n\n",
            "text/latex": "A tibble: 6 × 6\n\\begin{tabular}{llllll}\n sample & pop & super\\_pop & gender & ...5 & ...6\\\\\n <chr> & <chr> & <chr> & <chr> & <lgl> & <lgl>\\\\\n\\hline\n\t HG00096 & GBR & EUR & male   & NA & NA\\\\\n\t HG00097 & GBR & EUR & female & NA & NA\\\\\n\t HG00099 & GBR & EUR & female & NA & NA\\\\\n\t HG00100 & GBR & EUR & female & NA & NA\\\\\n\t HG00101 & GBR & EUR & male   & NA & NA\\\\\n\t HG00102 & GBR & EUR & female & NA & NA\\\\\n\\end{tabular}\n",
            "text/plain": [
              "  sample  pop super_pop gender ...5 ...6\n",
              "1 HG00096 GBR EUR       male   NA   NA  \n",
              "2 HG00097 GBR EUR       female NA   NA  \n",
              "3 HG00099 GBR EUR       female NA   NA  \n",
              "4 HG00100 GBR EUR       female NA   NA  \n",
              "5 HG00101 GBR EUR       male   NA   NA  \n",
              "6 HG00102 GBR EUR       female NA   NA  "
            ]
          },
          "metadata": {}
        }
      ]
    },
    {
      "cell_type": "markdown",
      "source": [
        "**2.-** Podemos consultar su estructura y dimensiones"
      ],
      "metadata": {
        "id": "F---b4Tg0nMC"
      }
    },
    {
      "cell_type": "code",
      "source": [
        "dplyr::glimpse(pca) # Tenemos 500 individuos y 14 variables\n",
        "skimr::skim(pca)"
      ],
      "metadata": {
        "id": "V56avl4L0oIm",
        "colab": {
          "base_uri": "https://localhost:8080/",
          "height": 1000
        },
        "outputId": "d2dbbbbb-0076-4505-aca2-52bb9406f591"
      },
      "execution_count": 22,
      "outputs": [
        {
          "output_type": "stream",
          "name": "stdout",
          "text": [
            "── Data Summary ────────────────────────\n",
            "                           Values\n",
            "Name                       pca   \n",
            "Number of rows             500   \n",
            "Number of columns          14    \n",
            "_______________________          \n",
            "Column type frequency:           \n",
            "  character                2     \n",
            "  numeric                  12    \n",
            "________________________         \n",
            "Group variables            None  \n",
            "\n",
            "── Variable type: character ────────────────────────────────────────────────────\n",
            "  skim_variable n_missing complete_rate min max empty n_unique whitespace\n",
            "\u001b[90m1\u001b[39m #FID                  0             1   7   7     0      500          0\n",
            "\u001b[90m2\u001b[39m IID                   0             1   7   7     0      500          0\n",
            "\n",
            "── Variable type: numeric ──────────────────────────────────────────────────────\n",
            "   skim_variable           n_missing complete_rate     mean        sd\n",
            "\u001b[90m 1\u001b[39m ALLELE_CT                       0             1  4.61\u001b[90me\u001b[39m+5 \u001b[4m1\u001b[24m993.    \n",
            "\u001b[90m 2\u001b[39m NAMED_ALLELE_DOSAGE_SUM         0             1  4.61\u001b[90me\u001b[39m+5 \u001b[4m1\u001b[24m993.    \n",
            "\u001b[90m 3\u001b[39m PC1_AVG                         0             1  5.20\u001b[90me\u001b[39m\u001b[31m-6\u001b[39m    0.050\u001b[4m4\u001b[24m\n",
            "\u001b[90m 4\u001b[39m PC2_AVG                         0             1  2.84\u001b[90me\u001b[39m\u001b[31m-6\u001b[39m    0.033\u001b[4m5\u001b[24m\n",
            "\u001b[90m 5\u001b[39m PC3_AVG                         0             1 -\u001b[31m3\u001b[39m\u001b[31m.\u001b[39m\u001b[31m85\u001b[39m\u001b[90me\u001b[39m\u001b[31m-6\u001b[39m    0.026\u001b[4m2\u001b[24m\n",
            "\u001b[90m 6\u001b[39m PC4_AVG                         0             1 -\u001b[31m2\u001b[39m\u001b[31m.\u001b[39m\u001b[31m90\u001b[39m\u001b[90me\u001b[39m\u001b[31m-6\u001b[39m    0.026\u001b[4m1\u001b[24m\n",
            "\u001b[90m 7\u001b[39m PC5_AVG                         0             1 -\u001b[31m2\u001b[39m\u001b[31m.\u001b[39m\u001b[31m51\u001b[39m\u001b[90me\u001b[39m\u001b[31m-6\u001b[39m    0.024\u001b[4m8\u001b[24m\n",
            "\u001b[90m 8\u001b[39m PC6_AVG                         0             1  1.46\u001b[90me\u001b[39m\u001b[31m-6\u001b[39m    0.024\u001b[4m5\u001b[24m\n",
            "\u001b[90m 9\u001b[39m PC7_AVG                         0             1 -\u001b[31m1\u001b[39m\u001b[31m.\u001b[39m\u001b[31m0\u001b[39m\u001b[31m4\u001b[39m\u001b[90me\u001b[39m\u001b[31m-6\u001b[39m    0.024\u001b[4m5\u001b[24m\n",
            "\u001b[90m10\u001b[39m PC8_AVG                         0             1 -\u001b[31m7\u001b[39m\u001b[31m.\u001b[39m\u001b[31m41\u001b[39m\u001b[90me\u001b[39m\u001b[31m-6\u001b[39m    0.024\u001b[4m4\u001b[24m\n",
            "\u001b[90m11\u001b[39m PC9_AVG                         0             1 -\u001b[31m3\u001b[39m\u001b[31m.\u001b[39m\u001b[31m81\u001b[39m\u001b[90me\u001b[39m\u001b[31m-6\u001b[39m    0.024\u001b[4m3\u001b[24m\n",
            "\u001b[90m12\u001b[39m PC10_AVG                        0             1  5.58\u001b[90me\u001b[39m\u001b[31m-6\u001b[39m    0.024\u001b[4m1\u001b[24m\n",
            "            p0          p25           p50          p75        p100 hist \n",
            "\u001b[90m 1\u001b[39m \u001b[4m4\u001b[24m\u001b[4m5\u001b[24m\u001b[4m4\u001b[24m912      \u001b[4m4\u001b[24m\u001b[4m5\u001b[24m\u001b[4m9\u001b[24m769       \u001b[4m4\u001b[24m\u001b[4m6\u001b[24m\u001b[4m1\u001b[24m359        \u001b[4m4\u001b[24m\u001b[4m6\u001b[24m\u001b[4m2\u001b[24m674.      \u001b[4m4\u001b[24m\u001b[4m6\u001b[24m\u001b[4m3\u001b[24m872      ▁▂▅▆▇\n",
            "\u001b[90m 2\u001b[39m \u001b[4m4\u001b[24m\u001b[4m5\u001b[24m\u001b[4m4\u001b[24m912      \u001b[4m4\u001b[24m\u001b[4m5\u001b[24m\u001b[4m9\u001b[24m769       \u001b[4m4\u001b[24m\u001b[4m6\u001b[24m\u001b[4m1\u001b[24m359        \u001b[4m4\u001b[24m\u001b[4m6\u001b[24m\u001b[4m2\u001b[24m674.      \u001b[4m4\u001b[24m\u001b[4m6\u001b[24m\u001b[4m3\u001b[24m872      ▁▂▅▆▇\n",
            "\u001b[90m 3\u001b[39m     -\u001b[31m0\u001b[39m\u001b[31m.\u001b[39m\u001b[31m0\u001b[39m\u001b[31m63\u001b[4m8\u001b[24m\u001b[39m     -\u001b[31m0\u001b[39m\u001b[31m.\u001b[39m\u001b[31m0\u001b[39m\u001b[31m46\u001b[4m0\u001b[24m\u001b[39m      -\u001b[31m0\u001b[39m\u001b[31m.\u001b[39m\u001b[31m00\u001b[39m\u001b[31m3\u001b[4m9\u001b[24m\u001b[4m4\u001b[24m\u001b[39m       0.029\u001b[4m0\u001b[24m       0.101  ▇▅▃▁▅\n",
            "\u001b[90m 4\u001b[39m     -\u001b[31m0\u001b[39m\u001b[31m.\u001b[39m\u001b[31m0\u001b[39m\u001b[31m62\u001b[4m4\u001b[24m\u001b[39m     -\u001b[31m0\u001b[39m\u001b[31m.\u001b[39m\u001b[31m0\u001b[39m\u001b[31m33\u001b[4m4\u001b[24m\u001b[39m       0.016\u001b[4m6\u001b[24m        0.028\u001b[4m0\u001b[24m       0.052\u001b[4m9\u001b[24m ▃▅▁▇▅\n",
            "\u001b[90m 5\u001b[39m     -\u001b[31m0\u001b[39m\u001b[31m.\u001b[39m\u001b[31m0\u001b[39m\u001b[31m61\u001b[4m1\u001b[24m\u001b[39m     -\u001b[31m0\u001b[39m\u001b[31m.\u001b[39m\u001b[31m0\u001b[39m\u001b[31m12\u001b[4m4\u001b[24m\u001b[39m       0.002\u001b[4m8\u001b[24m\u001b[4m7\u001b[24m       0.014\u001b[4m5\u001b[24m       0.090\u001b[4m8\u001b[24m ▃▅▇▂▁\n",
            "\u001b[90m 6\u001b[39m     -\u001b[31m0\u001b[39m\u001b[31m.\u001b[39m\u001b[31m114\u001b[39m      -\u001b[31m0\u001b[39m\u001b[31m.\u001b[39m\u001b[31m0\u001b[39m\u001b[31m14\u001b[4m5\u001b[24m\u001b[39m       0.000\u001b[4m2\u001b[24m\u001b[4m4\u001b[24m\u001b[4m7\u001b[24m      0.017\u001b[4m8\u001b[24m       0.054\u001b[4m7\u001b[24m ▁▁▃▇▃\n",
            "\u001b[90m 7\u001b[39m     -\u001b[31m0\u001b[39m\u001b[31m.\u001b[39m\u001b[31m113\u001b[39m      -\u001b[31m0\u001b[39m\u001b[31m.\u001b[39m\u001b[31m0\u001b[39m\u001b[31m14\u001b[4m8\u001b[24m\u001b[39m      -\u001b[31m0\u001b[39m\u001b[31m.\u001b[39m\u001b[31m000\u001b[39m\u001b[31m\u001b[4m2\u001b[24m\u001b[4m3\u001b[24m\u001b[4m6\u001b[24m\u001b[39m      0.015\u001b[4m5\u001b[24m       0.155  ▁▅▇▁▁\n",
            "\u001b[90m 8\u001b[39m     -\u001b[31m0\u001b[39m\u001b[31m.\u001b[39m\u001b[31m0\u001b[39m\u001b[31m60\u001b[4m4\u001b[24m\u001b[39m     -\u001b[31m0\u001b[39m\u001b[31m.\u001b[39m\u001b[31m0\u001b[39m\u001b[31m11\u001b[4m0\u001b[24m\u001b[39m      -\u001b[31m0\u001b[39m\u001b[31m.\u001b[39m\u001b[31m00\u001b[39m\u001b[31m2\u001b[4m3\u001b[24m\u001b[4m4\u001b[24m\u001b[39m       0.007\u001b[4m2\u001b[24m\u001b[4m1\u001b[24m      0.304  ▇▂▁▁▁\n",
            "\u001b[90m 9\u001b[39m     -\u001b[31m0\u001b[39m\u001b[31m.\u001b[39m\u001b[31m280\u001b[39m      -\u001b[31m0\u001b[39m\u001b[31m.\u001b[39m\u001b[31m00\u001b[39m\u001b[31m5\u001b[4m7\u001b[24m\u001b[4m8\u001b[24m\u001b[39m      0.000\u001b[4m6\u001b[24m\u001b[4m4\u001b[24m\u001b[4m8\u001b[24m      0.007\u001b[4m7\u001b[24m\u001b[4m4\u001b[24m      0.200  ▁▁▇▂▁\n",
            "\u001b[90m10\u001b[39m     -\u001b[31m0\u001b[39m\u001b[31m.\u001b[39m\u001b[31m157\u001b[39m      -\u001b[31m0\u001b[39m\u001b[31m.\u001b[39m\u001b[31m00\u001b[39m\u001b[31m9\u001b[4m1\u001b[24m\u001b[4m1\u001b[24m\u001b[39m     -\u001b[31m0\u001b[39m\u001b[31m.\u001b[39m\u001b[31m000\u001b[39m\u001b[31m\u001b[4m8\u001b[24m\u001b[4m9\u001b[24m\u001b[4m0\u001b[24m\u001b[39m      0.006\u001b[4m9\u001b[24m\u001b[4m5\u001b[24m      0.243  ▁▇▅▁▁\n",
            "\u001b[90m11\u001b[39m     -\u001b[31m0\u001b[39m\u001b[31m.\u001b[39m\u001b[31m182\u001b[39m      -\u001b[31m0\u001b[39m\u001b[31m.\u001b[39m\u001b[31m0\u001b[39m\u001b[31m11\u001b[4m2\u001b[24m\u001b[39m       0.000\u001b[4m8\u001b[24m\u001b[4m8\u001b[24m\u001b[4m6\u001b[24m      0.013\u001b[4m5\u001b[24m       0.077\u001b[4m7\u001b[24m ▁▁▁▇▁\n",
            "\u001b[90m12\u001b[39m     -\u001b[31m0\u001b[39m\u001b[31m.\u001b[39m\u001b[31m143\u001b[39m      -\u001b[31m0\u001b[39m\u001b[31m.\u001b[39m\u001b[31m0\u001b[39m\u001b[31m13\u001b[4m3\u001b[24m\u001b[39m      -\u001b[31m0\u001b[39m\u001b[31m.\u001b[39m\u001b[31m000\u001b[39m\u001b[31m\u001b[4m6\u001b[24m\u001b[4m3\u001b[24m\u001b[4m3\u001b[24m\u001b[39m      0.011\u001b[4m1\u001b[24m       0.174  ▁▂▇▁▁\n"
          ]
        },
        {
          "output_type": "error",
          "ename": "ERROR",
          "evalue": "Error in is.null(text_repr) || nchar(text_repr) == 0L: 'length = 17' in coercion to 'logical(1)'\n",
          "traceback": [
            "Error in is.null(text_repr) || nchar(text_repr) == 0L: 'length = 17' in coercion to 'logical(1)'\nTraceback:\n",
            "1. prepare_mimebundle_kernel(obj, .self$handle_display_error)",
            "2. .handleSimpleError(function (cnd) \n . {\n .     watcher$capture_plot_and_output()\n .     cnd <- sanitize_call(cnd)\n .     watcher$push(cnd)\n .     switch(on_error, continue = invokeRestart(\"eval_continue\"), \n .         stop = invokeRestart(\"eval_stop\"), error = NULL)\n . }, \"'length = 17' in coercion to 'logical(1)'\", base::quote(is.null(text_repr) || \n .     nchar(text_repr) == 0L))"
          ]
        }
      ]
    },
    {
      "cell_type": "code",
      "source": [
        "dplyr::glimpse(ped) # Este es el archivo original de genómica con 2504 sujetos y sus datos de ancestría\n"
      ],
      "metadata": {
        "colab": {
          "base_uri": "https://localhost:8080/",
          "height": 208
        },
        "id": "OiNtiPj-psPy",
        "outputId": "54852303-f348-4a15-82af-29c13ce273dc"
      },
      "execution_count": 37,
      "outputs": [
        {
          "output_type": "stream",
          "name": "stdout",
          "text": [
            "Rows: 2,504\n",
            "Columns: 4\n",
            "$ sample    \u001b[3m\u001b[90m<chr>\u001b[39m\u001b[23m \"HG00096\"\u001b[90m, \u001b[39m\"HG00097\"\u001b[90m, \u001b[39m\"HG00099\"\u001b[90m, \u001b[39m\"HG00100\"\u001b[90m, \u001b[39m\"HG00101\"\u001b[90m, \u001b[39m\"HG00…\n",
            "$ pop       \u001b[3m\u001b[90m<chr>\u001b[39m\u001b[23m \"GBR\"\u001b[90m, \u001b[39m\"GBR\"\u001b[90m, \u001b[39m\"GBR\"\u001b[90m, \u001b[39m\"GBR\"\u001b[90m, \u001b[39m\"GBR\"\u001b[90m, \u001b[39m\"GBR\"\u001b[90m, \u001b[39m\"GBR\"\u001b[90m, \u001b[39m\"GBR\"\u001b[90m, \u001b[39m\"GBR…\n",
            "$ super_pop \u001b[3m\u001b[90m<chr>\u001b[39m\u001b[23m \"EUR\"\u001b[90m, \u001b[39m\"EUR\"\u001b[90m, \u001b[39m\"EUR\"\u001b[90m, \u001b[39m\"EUR\"\u001b[90m, \u001b[39m\"EUR\"\u001b[90m, \u001b[39m\"EUR\"\u001b[90m, \u001b[39m\"EUR\"\u001b[90m, \u001b[39m\"EUR\"\u001b[90m, \u001b[39m\"EUR…\n",
            "$ gender    \u001b[3m\u001b[90m<chr>\u001b[39m\u001b[23m \"male\"\u001b[90m, \u001b[39m\"female\"\u001b[90m, \u001b[39m\"female\"\u001b[90m, \u001b[39m\"female\"\u001b[90m, \u001b[39m\"male\"\u001b[90m, \u001b[39m\"female\"\u001b[90m, \u001b[39m\"mal…\n"
          ]
        },
        {
          "output_type": "display_data",
          "data": {
            "text/plain": [
              "\n",
              "ACB ASW BEB CDX CEU CHB CHS CLM ESN FIN GBR GIH GWD IBS ITU JPT KHV LWK MSL MXL \n",
              " 96  61  86  93  99 103 105  94  99  99  91 103 113 107 102 104  99  99  85  64 \n",
              "PEL PJL PUR STU TSI YRI \n",
              " 85  96 104 102 107 108 "
            ]
          },
          "metadata": {}
        }
      ]
    },
    {
      "cell_type": "markdown",
      "source": [
        "**3.-** Como hemos realizado un filtro de individuos previo al PCA, debemos seleccionar del archivo de ancestría, únicamente los individuos que han permanecido en nuestro filtrado (lo haremos en R con un \"inner_join\")"
      ],
      "metadata": {
        "id": "iGtN2WHfppoB"
      }
    },
    {
      "cell_type": "code",
      "source": [
        "pcaped <- inner_join(pca, ped, by = c(\"IID\" = \"sample\"))\n",
        "table(pcaped$pop) # Podemos consultar cuantos individuos tenemos de cada tipo de ancestría"
      ],
      "metadata": {
        "colab": {
          "base_uri": "https://localhost:8080/",
          "height": 69
        },
        "id": "4VmOYMYtpqVL",
        "outputId": "8c03f5cd-f92d-4b22-f443-c0ba3cb7979f"
      },
      "execution_count": 39,
      "outputs": [
        {
          "output_type": "display_data",
          "data": {
            "text/plain": [
              "\n",
              "CDX CHB CHS JPT KHV \n",
              " 93 103 105 102  97 "
            ]
          },
          "metadata": {}
        }
      ]
    },
    {
      "cell_type": "markdown",
      "source": [
        "### **3.1.- Visualizing distribution and dispersion of exposome variables**"
      ],
      "metadata": {
        "id": "PvKPfHh8k7UR"
      }
    },
    {
      "cell_type": "markdown",
      "source": [
        "Una vez que tenemos correctamente formateado nuestro dataset con los datos del PCA y los datos de ancestría, podemos proceder a su representación visual.\n",
        "\n",
        "La codificación de ancestría utilizada en estos archivos vienen explicada en la siguiente tabla, necesaria para interpretar el gráfico.\n",
        "\n",
        "| Código  | Población                           | Región / País principal                         |\n",
        "| ------- | ----------------------------------- | ----------------------------------------------- |\n",
        "| **CDX** | Chinese Dai in Xishuangbanna, China | Etnia Dai, provincia de Yunnan (China)          |\n",
        "| **CHB** | Han Chinese in Beijing, China       | Chinos Han, Pekín                               |\n",
        "| **CHS** | Southern Han Chinese                | Chinos Han del sur de China                     |\n",
        "| **JPT** | Japanese in Tokyo, Japan            | Japoneses en Tokio                              |\n",
        "| **KHV** | Kinh in Ho Chi Minh City, Vietnam   | Grupo étnico Kinh, Ciudad Ho Chi Minh (Vietnam) |\n",
        "\n"
      ],
      "metadata": {
        "id": "FUWWvj6ipvr0"
      }
    },
    {
      "cell_type": "code",
      "source": [
        "# Usamos el la función ggplot para representar los dos primeros componentes principales.\n",
        "\n",
        "ggplot(pcaped, aes(x = PC1_AVG, y = PC2_AVG, color = pop)) +\n",
        "  geom_point(size = 3) +\n",
        "  theme_minimal(base_size = 18) +  # texto y ejes más grandes\n",
        "  theme(\n",
        "    legend.position = \"right\",\n",
        "    plot.margin = margin(20, 20, 20, 20)\n",
        "  ) +\n",
        "  labs(x = \"PC1\", y = \"PC2\", color = \"Población\") +\n",
        "  scale_color_brewer(palette = \"Set1\")  # paleta llamativa y diferenciada\n",
        "\n"
      ],
      "metadata": {
        "id": "HIkBLiFgg736",
        "colab": {
          "base_uri": "https://localhost:8080/",
          "height": 437
        },
        "outputId": "6992d4e5-869a-4fbb-bdd7-c6f85fdec811"
      },
      "execution_count": 41,
      "outputs": [
        {
          "output_type": "display_data",
          "data": {
            "text/plain": [
              "plot without title"
            ],
            "image/png": "[encoded data removed]"
          },
          "metadata": {
            "image/png": {
              "width": 420,
              "height": 420
            }
          }
        }
      ]
    },
    {
      "cell_type": "markdown",
      "source": [
        "\n",
        "Es interesante observar como **la población japonesa presenta diferencias marcadas con respecto al resto de subpoblaciones asiáticas** para los SNPs seleccionados."
      ],
      "metadata": {
        "id": "TSAa9V--u9p0"
      }
    }
  ]
}